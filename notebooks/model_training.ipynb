{
 "cells": [
  {
   "cell_type": "code",
   "execution_count": 1,
   "metadata": {},
   "outputs": [],
   "source": [
    "# Dependencies\n",
    "import pandas as pd\n",
    "from prophet import Prophet\n",
    "import logging\n",
    "from sklearn.metrics import mean_squared_error, mean_absolute_error\n",
    "from math import sqrt\n",
    "from datetime import date\n",
    "import numpy as np\n",
    "from sklearn.model_selection import ParameterGrid\n",
    "import seaborn as sns\n",
    "from workalendar.usa import UnitedStates\n",
    "from datetime import date\n",
    "import warnings\n",
    "import itertools\n",
    "import random\n",
    "import matplotlib.pyplot as plt"
   ]
  },
  {
   "cell_type": "code",
   "execution_count": 2,
   "metadata": {},
   "outputs": [
    {
     "data": {
      "text/html": [
       "<div>\n",
       "<style scoped>\n",
       "    .dataframe tbody tr th:only-of-type {\n",
       "        vertical-align: middle;\n",
       "    }\n",
       "\n",
       "    .dataframe tbody tr th {\n",
       "        vertical-align: top;\n",
       "    }\n",
       "\n",
       "    .dataframe thead th {\n",
       "        text-align: right;\n",
       "    }\n",
       "</style>\n",
       "<table border=\"1\" class=\"dataframe\">\n",
       "  <thead>\n",
       "    <tr style=\"text-align: right;\">\n",
       "      <th></th>\n",
       "      <th>date</th>\n",
       "      <th>store</th>\n",
       "      <th>item</th>\n",
       "      <th>sales</th>\n",
       "    </tr>\n",
       "  </thead>\n",
       "  <tbody>\n",
       "    <tr>\n",
       "      <th>0</th>\n",
       "      <td>2013-01-01</td>\n",
       "      <td>1</td>\n",
       "      <td>1</td>\n",
       "      <td>13</td>\n",
       "    </tr>\n",
       "    <tr>\n",
       "      <th>1</th>\n",
       "      <td>2013-01-02</td>\n",
       "      <td>1</td>\n",
       "      <td>1</td>\n",
       "      <td>11</td>\n",
       "    </tr>\n",
       "    <tr>\n",
       "      <th>2</th>\n",
       "      <td>2013-01-03</td>\n",
       "      <td>1</td>\n",
       "      <td>1</td>\n",
       "      <td>14</td>\n",
       "    </tr>\n",
       "    <tr>\n",
       "      <th>3</th>\n",
       "      <td>2013-01-04</td>\n",
       "      <td>1</td>\n",
       "      <td>1</td>\n",
       "      <td>13</td>\n",
       "    </tr>\n",
       "    <tr>\n",
       "      <th>4</th>\n",
       "      <td>2013-01-05</td>\n",
       "      <td>1</td>\n",
       "      <td>1</td>\n",
       "      <td>10</td>\n",
       "    </tr>\n",
       "    <tr>\n",
       "      <th>...</th>\n",
       "      <td>...</td>\n",
       "      <td>...</td>\n",
       "      <td>...</td>\n",
       "      <td>...</td>\n",
       "    </tr>\n",
       "    <tr>\n",
       "      <th>912995</th>\n",
       "      <td>2017-12-27</td>\n",
       "      <td>10</td>\n",
       "      <td>50</td>\n",
       "      <td>63</td>\n",
       "    </tr>\n",
       "    <tr>\n",
       "      <th>912996</th>\n",
       "      <td>2017-12-28</td>\n",
       "      <td>10</td>\n",
       "      <td>50</td>\n",
       "      <td>59</td>\n",
       "    </tr>\n",
       "    <tr>\n",
       "      <th>912997</th>\n",
       "      <td>2017-12-29</td>\n",
       "      <td>10</td>\n",
       "      <td>50</td>\n",
       "      <td>74</td>\n",
       "    </tr>\n",
       "    <tr>\n",
       "      <th>912998</th>\n",
       "      <td>2017-12-30</td>\n",
       "      <td>10</td>\n",
       "      <td>50</td>\n",
       "      <td>62</td>\n",
       "    </tr>\n",
       "    <tr>\n",
       "      <th>912999</th>\n",
       "      <td>2017-12-31</td>\n",
       "      <td>10</td>\n",
       "      <td>50</td>\n",
       "      <td>82</td>\n",
       "    </tr>\n",
       "  </tbody>\n",
       "</table>\n",
       "<p>913000 rows × 4 columns</p>\n",
       "</div>"
      ],
      "text/plain": [
       "              date  store  item  sales\n",
       "0       2013-01-01      1     1     13\n",
       "1       2013-01-02      1     1     11\n",
       "2       2013-01-03      1     1     14\n",
       "3       2013-01-04      1     1     13\n",
       "4       2013-01-05      1     1     10\n",
       "...            ...    ...   ...    ...\n",
       "912995  2017-12-27     10    50     63\n",
       "912996  2017-12-28     10    50     59\n",
       "912997  2017-12-29     10    50     74\n",
       "912998  2017-12-30     10    50     62\n",
       "912999  2017-12-31     10    50     82\n",
       "\n",
       "[913000 rows x 4 columns]"
      ]
     },
     "execution_count": 2,
     "metadata": {},
     "output_type": "execute_result"
    }
   ],
   "source": [
    "# Read the CSV files\n",
    "csv_file = '../data/store.csv'\n",
    "\n",
    "# Save CSV files into DataFrame\n",
    "df = pd.read_csv(csv_file)\n",
    "\n",
    "# Display DataFrame\n",
    "df"
   ]
  },
  {
   "cell_type": "code",
   "execution_count": 3,
   "metadata": {},
   "outputs": [
    {
     "data": {
      "text/html": [
       "<div>\n",
       "<style scoped>\n",
       "    .dataframe tbody tr th:only-of-type {\n",
       "        vertical-align: middle;\n",
       "    }\n",
       "\n",
       "    .dataframe tbody tr th {\n",
       "        vertical-align: top;\n",
       "    }\n",
       "\n",
       "    .dataframe thead th {\n",
       "        text-align: right;\n",
       "    }\n",
       "</style>\n",
       "<table border=\"1\" class=\"dataframe\">\n",
       "  <thead>\n",
       "    <tr style=\"text-align: right;\">\n",
       "      <th></th>\n",
       "      <th>ds</th>\n",
       "      <th>y</th>\n",
       "    </tr>\n",
       "  </thead>\n",
       "  <tbody>\n",
       "    <tr>\n",
       "      <th>0</th>\n",
       "      <td>2013-01-01</td>\n",
       "      <td>13</td>\n",
       "    </tr>\n",
       "    <tr>\n",
       "      <th>1</th>\n",
       "      <td>2013-01-02</td>\n",
       "      <td>11</td>\n",
       "    </tr>\n",
       "    <tr>\n",
       "      <th>2</th>\n",
       "      <td>2013-01-03</td>\n",
       "      <td>14</td>\n",
       "    </tr>\n",
       "    <tr>\n",
       "      <th>3</th>\n",
       "      <td>2013-01-04</td>\n",
       "      <td>13</td>\n",
       "    </tr>\n",
       "    <tr>\n",
       "      <th>4</th>\n",
       "      <td>2013-01-05</td>\n",
       "      <td>10</td>\n",
       "    </tr>\n",
       "    <tr>\n",
       "      <th>...</th>\n",
       "      <td>...</td>\n",
       "      <td>...</td>\n",
       "    </tr>\n",
       "    <tr>\n",
       "      <th>1821</th>\n",
       "      <td>2017-12-27</td>\n",
       "      <td>14</td>\n",
       "    </tr>\n",
       "    <tr>\n",
       "      <th>1822</th>\n",
       "      <td>2017-12-28</td>\n",
       "      <td>19</td>\n",
       "    </tr>\n",
       "    <tr>\n",
       "      <th>1823</th>\n",
       "      <td>2017-12-29</td>\n",
       "      <td>15</td>\n",
       "    </tr>\n",
       "    <tr>\n",
       "      <th>1824</th>\n",
       "      <td>2017-12-30</td>\n",
       "      <td>27</td>\n",
       "    </tr>\n",
       "    <tr>\n",
       "      <th>1825</th>\n",
       "      <td>2017-12-31</td>\n",
       "      <td>23</td>\n",
       "    </tr>\n",
       "  </tbody>\n",
       "</table>\n",
       "<p>1826 rows × 2 columns</p>\n",
       "</div>"
      ],
      "text/plain": [
       "              ds   y\n",
       "0     2013-01-01  13\n",
       "1     2013-01-02  11\n",
       "2     2013-01-03  14\n",
       "3     2013-01-04  13\n",
       "4     2013-01-05  10\n",
       "...          ...  ..\n",
       "1821  2017-12-27  14\n",
       "1822  2017-12-28  19\n",
       "1823  2017-12-29  15\n",
       "1824  2017-12-30  27\n",
       "1825  2017-12-31  23\n",
       "\n",
       "[1826 rows x 2 columns]"
      ]
     },
     "execution_count": 3,
     "metadata": {},
     "output_type": "execute_result"
    }
   ],
   "source": [
    "# Filter the DataFrame based on store and item values\n",
    "filtered_df = df[(df['store'] == 1) & (df['item'] == 1)]\n",
    "\n",
    "# Select the required columns and rename them\n",
    "history_pd = filtered_df[['date', 'sales']].rename(columns={'date': 'ds', 'sales': 'y'})\n",
    "\n",
    "# Sort the DataFrame by date\n",
    "history_pd = history_pd.sort_values(by='ds')\n",
    "\n",
    "# Reset the index of the DataFrame\n",
    "history_pd = history_pd.reset_index(drop=True)\n",
    "\n",
    "# Display DataFrame\n",
    "history_pd"
   ]
  },
  {
   "cell_type": "code",
   "execution_count": 5,
   "metadata": {},
   "outputs": [
    {
     "name": "stderr",
     "output_type": "stream",
     "text": [
      "11:23:53 - cmdstanpy - INFO - Chain [1] start processing\n",
      "11:23:53 - cmdstanpy - INFO - Chain [1] done processing\n"
     ]
    },
    {
     "data": {
      "text/plain": [
       "<prophet.forecaster.Prophet at 0x10d6e0c70>"
      ]
     },
     "execution_count": 5,
     "metadata": {},
     "output_type": "execute_result"
    }
   ],
   "source": [
    "# disable informational messages from fbprophet\n",
    "logging.getLogger('py4j').setLevel(logging.ERROR)\n",
    "\n",
    "# set model parameters\n",
    "model = Prophet(\n",
    "  interval_width=0.95,\n",
    "  growth='linear',\n",
    "  daily_seasonality=False,\n",
    "  weekly_seasonality=True,\n",
    "  yearly_seasonality=True,\n",
    "  seasonality_mode='multiplicative'\n",
    "  )\n",
    " \n",
    "# fit the model to historical data\n",
    "model.fit(history_pd)"
   ]
  },
  {
   "cell_type": "code",
   "execution_count": 7,
   "metadata": {},
   "outputs": [
    {
     "data": {
      "text/html": [
       "<div>\n",
       "<style scoped>\n",
       "    .dataframe tbody tr th:only-of-type {\n",
       "        vertical-align: middle;\n",
       "    }\n",
       "\n",
       "    .dataframe tbody tr th {\n",
       "        vertical-align: top;\n",
       "    }\n",
       "\n",
       "    .dataframe thead th {\n",
       "        text-align: right;\n",
       "    }\n",
       "</style>\n",
       "<table border=\"1\" class=\"dataframe\">\n",
       "  <thead>\n",
       "    <tr style=\"text-align: right;\">\n",
       "      <th></th>\n",
       "      <th>ds</th>\n",
       "      <th>trend</th>\n",
       "      <th>yhat_lower</th>\n",
       "      <th>yhat_upper</th>\n",
       "      <th>trend_lower</th>\n",
       "      <th>trend_upper</th>\n",
       "      <th>multiplicative_terms</th>\n",
       "      <th>multiplicative_terms_lower</th>\n",
       "      <th>multiplicative_terms_upper</th>\n",
       "      <th>weekly</th>\n",
       "      <th>weekly_lower</th>\n",
       "      <th>weekly_upper</th>\n",
       "      <th>yearly</th>\n",
       "      <th>yearly_lower</th>\n",
       "      <th>yearly_upper</th>\n",
       "      <th>additive_terms</th>\n",
       "      <th>additive_terms_lower</th>\n",
       "      <th>additive_terms_upper</th>\n",
       "      <th>yhat</th>\n",
       "    </tr>\n",
       "  </thead>\n",
       "  <tbody>\n",
       "    <tr>\n",
       "      <th>0</th>\n",
       "      <td>2013-01-01</td>\n",
       "      <td>15.607400</td>\n",
       "      <td>1.586925</td>\n",
       "      <td>18.944069</td>\n",
       "      <td>15.607400</td>\n",
       "      <td>15.607400</td>\n",
       "      <td>-0.356003</td>\n",
       "      <td>-0.356003</td>\n",
       "      <td>-0.356003</td>\n",
       "      <td>-0.088820</td>\n",
       "      <td>-0.088820</td>\n",
       "      <td>-0.088820</td>\n",
       "      <td>-0.267183</td>\n",
       "      <td>-0.267183</td>\n",
       "      <td>-0.267183</td>\n",
       "      <td>0.0</td>\n",
       "      <td>0.0</td>\n",
       "      <td>0.0</td>\n",
       "      <td>10.051119</td>\n",
       "    </tr>\n",
       "    <tr>\n",
       "      <th>1</th>\n",
       "      <td>2013-01-02</td>\n",
       "      <td>15.613104</td>\n",
       "      <td>1.587805</td>\n",
       "      <td>19.562431</td>\n",
       "      <td>15.613104</td>\n",
       "      <td>15.613104</td>\n",
       "      <td>-0.325666</td>\n",
       "      <td>-0.325666</td>\n",
       "      <td>-0.325666</td>\n",
       "      <td>-0.059012</td>\n",
       "      <td>-0.059012</td>\n",
       "      <td>-0.059012</td>\n",
       "      <td>-0.266654</td>\n",
       "      <td>-0.266654</td>\n",
       "      <td>-0.266654</td>\n",
       "      <td>0.0</td>\n",
       "      <td>0.0</td>\n",
       "      <td>0.0</td>\n",
       "      <td>10.528451</td>\n",
       "    </tr>\n",
       "    <tr>\n",
       "      <th>2</th>\n",
       "      <td>2013-01-03</td>\n",
       "      <td>15.618808</td>\n",
       "      <td>2.660339</td>\n",
       "      <td>19.884549</td>\n",
       "      <td>15.618808</td>\n",
       "      <td>15.618808</td>\n",
       "      <td>-0.292318</td>\n",
       "      <td>-0.292318</td>\n",
       "      <td>-0.292318</td>\n",
       "      <td>-0.025382</td>\n",
       "      <td>-0.025382</td>\n",
       "      <td>-0.025382</td>\n",
       "      <td>-0.266936</td>\n",
       "      <td>-0.266936</td>\n",
       "      <td>-0.266936</td>\n",
       "      <td>0.0</td>\n",
       "      <td>0.0</td>\n",
       "      <td>0.0</td>\n",
       "      <td>11.053147</td>\n",
       "    </tr>\n",
       "    <tr>\n",
       "      <th>3</th>\n",
       "      <td>2013-01-04</td>\n",
       "      <td>15.624511</td>\n",
       "      <td>3.050446</td>\n",
       "      <td>20.095306</td>\n",
       "      <td>15.624511</td>\n",
       "      <td>15.624511</td>\n",
       "      <td>-0.216337</td>\n",
       "      <td>-0.216337</td>\n",
       "      <td>-0.216337</td>\n",
       "      <td>0.051654</td>\n",
       "      <td>0.051654</td>\n",
       "      <td>0.051654</td>\n",
       "      <td>-0.267991</td>\n",
       "      <td>-0.267991</td>\n",
       "      <td>-0.267991</td>\n",
       "      <td>0.0</td>\n",
       "      <td>0.0</td>\n",
       "      <td>0.0</td>\n",
       "      <td>12.244353</td>\n",
       "    </tr>\n",
       "    <tr>\n",
       "      <th>4</th>\n",
       "      <td>2013-01-05</td>\n",
       "      <td>15.630215</td>\n",
       "      <td>5.357788</td>\n",
       "      <td>22.591082</td>\n",
       "      <td>15.630215</td>\n",
       "      <td>15.630215</td>\n",
       "      <td>-0.118351</td>\n",
       "      <td>-0.118351</td>\n",
       "      <td>-0.118351</td>\n",
       "      <td>0.151404</td>\n",
       "      <td>0.151404</td>\n",
       "      <td>0.151404</td>\n",
       "      <td>-0.269755</td>\n",
       "      <td>-0.269755</td>\n",
       "      <td>-0.269755</td>\n",
       "      <td>0.0</td>\n",
       "      <td>0.0</td>\n",
       "      <td>0.0</td>\n",
       "      <td>13.780369</td>\n",
       "    </tr>\n",
       "    <tr>\n",
       "      <th>...</th>\n",
       "      <td>...</td>\n",
       "      <td>...</td>\n",
       "      <td>...</td>\n",
       "      <td>...</td>\n",
       "      <td>...</td>\n",
       "      <td>...</td>\n",
       "      <td>...</td>\n",
       "      <td>...</td>\n",
       "      <td>...</td>\n",
       "      <td>...</td>\n",
       "      <td>...</td>\n",
       "      <td>...</td>\n",
       "      <td>...</td>\n",
       "      <td>...</td>\n",
       "      <td>...</td>\n",
       "      <td>...</td>\n",
       "      <td>...</td>\n",
       "      <td>...</td>\n",
       "      <td>...</td>\n",
       "    </tr>\n",
       "    <tr>\n",
       "      <th>1911</th>\n",
       "      <td>2018-03-27</td>\n",
       "      <td>22.766163</td>\n",
       "      <td>11.756006</td>\n",
       "      <td>28.479057</td>\n",
       "      <td>22.744080</td>\n",
       "      <td>22.795329</td>\n",
       "      <td>-0.118400</td>\n",
       "      <td>-0.118400</td>\n",
       "      <td>-0.118400</td>\n",
       "      <td>-0.088820</td>\n",
       "      <td>-0.088820</td>\n",
       "      <td>-0.088820</td>\n",
       "      <td>-0.029580</td>\n",
       "      <td>-0.029580</td>\n",
       "      <td>-0.029580</td>\n",
       "      <td>0.0</td>\n",
       "      <td>0.0</td>\n",
       "      <td>0.0</td>\n",
       "      <td>20.070650</td>\n",
       "    </tr>\n",
       "    <tr>\n",
       "      <th>1912</th>\n",
       "      <td>2018-03-28</td>\n",
       "      <td>22.767908</td>\n",
       "      <td>11.239922</td>\n",
       "      <td>30.021243</td>\n",
       "      <td>22.745046</td>\n",
       "      <td>22.797746</td>\n",
       "      <td>-0.085724</td>\n",
       "      <td>-0.085724</td>\n",
       "      <td>-0.085724</td>\n",
       "      <td>-0.059012</td>\n",
       "      <td>-0.059012</td>\n",
       "      <td>-0.059012</td>\n",
       "      <td>-0.026712</td>\n",
       "      <td>-0.026712</td>\n",
       "      <td>-0.026712</td>\n",
       "      <td>0.0</td>\n",
       "      <td>0.0</td>\n",
       "      <td>0.0</td>\n",
       "      <td>20.816146</td>\n",
       "    </tr>\n",
       "    <tr>\n",
       "      <th>1913</th>\n",
       "      <td>2018-03-29</td>\n",
       "      <td>22.769652</td>\n",
       "      <td>13.913833</td>\n",
       "      <td>29.989938</td>\n",
       "      <td>22.746283</td>\n",
       "      <td>22.800163</td>\n",
       "      <td>-0.049246</td>\n",
       "      <td>-0.049246</td>\n",
       "      <td>-0.049246</td>\n",
       "      <td>-0.025382</td>\n",
       "      <td>-0.025382</td>\n",
       "      <td>-0.025382</td>\n",
       "      <td>-0.023864</td>\n",
       "      <td>-0.023864</td>\n",
       "      <td>-0.023864</td>\n",
       "      <td>0.0</td>\n",
       "      <td>0.0</td>\n",
       "      <td>0.0</td>\n",
       "      <td>21.648336</td>\n",
       "    </tr>\n",
       "    <tr>\n",
       "      <th>1914</th>\n",
       "      <td>2018-03-30</td>\n",
       "      <td>22.771397</td>\n",
       "      <td>14.759818</td>\n",
       "      <td>32.970603</td>\n",
       "      <td>22.747784</td>\n",
       "      <td>22.802577</td>\n",
       "      <td>0.030675</td>\n",
       "      <td>0.030675</td>\n",
       "      <td>0.030675</td>\n",
       "      <td>0.051654</td>\n",
       "      <td>0.051654</td>\n",
       "      <td>0.051654</td>\n",
       "      <td>-0.020980</td>\n",
       "      <td>-0.020980</td>\n",
       "      <td>-0.020980</td>\n",
       "      <td>0.0</td>\n",
       "      <td>0.0</td>\n",
       "      <td>0.0</td>\n",
       "      <td>23.469900</td>\n",
       "    </tr>\n",
       "    <tr>\n",
       "      <th>1915</th>\n",
       "      <td>2018-03-31</td>\n",
       "      <td>22.773142</td>\n",
       "      <td>17.309701</td>\n",
       "      <td>34.023137</td>\n",
       "      <td>22.749292</td>\n",
       "      <td>22.804877</td>\n",
       "      <td>0.133395</td>\n",
       "      <td>0.133395</td>\n",
       "      <td>0.133395</td>\n",
       "      <td>0.151404</td>\n",
       "      <td>0.151404</td>\n",
       "      <td>0.151404</td>\n",
       "      <td>-0.018009</td>\n",
       "      <td>-0.018009</td>\n",
       "      <td>-0.018009</td>\n",
       "      <td>0.0</td>\n",
       "      <td>0.0</td>\n",
       "      <td>0.0</td>\n",
       "      <td>25.810970</td>\n",
       "    </tr>\n",
       "  </tbody>\n",
       "</table>\n",
       "<p>1916 rows × 19 columns</p>\n",
       "</div>"
      ],
      "text/plain": [
       "             ds      trend  yhat_lower  yhat_upper  trend_lower  trend_upper  \\\n",
       "0    2013-01-01  15.607400    1.586925   18.944069    15.607400    15.607400   \n",
       "1    2013-01-02  15.613104    1.587805   19.562431    15.613104    15.613104   \n",
       "2    2013-01-03  15.618808    2.660339   19.884549    15.618808    15.618808   \n",
       "3    2013-01-04  15.624511    3.050446   20.095306    15.624511    15.624511   \n",
       "4    2013-01-05  15.630215    5.357788   22.591082    15.630215    15.630215   \n",
       "...         ...        ...         ...         ...          ...          ...   \n",
       "1911 2018-03-27  22.766163   11.756006   28.479057    22.744080    22.795329   \n",
       "1912 2018-03-28  22.767908   11.239922   30.021243    22.745046    22.797746   \n",
       "1913 2018-03-29  22.769652   13.913833   29.989938    22.746283    22.800163   \n",
       "1914 2018-03-30  22.771397   14.759818   32.970603    22.747784    22.802577   \n",
       "1915 2018-03-31  22.773142   17.309701   34.023137    22.749292    22.804877   \n",
       "\n",
       "      multiplicative_terms  multiplicative_terms_lower  \\\n",
       "0                -0.356003                   -0.356003   \n",
       "1                -0.325666                   -0.325666   \n",
       "2                -0.292318                   -0.292318   \n",
       "3                -0.216337                   -0.216337   \n",
       "4                -0.118351                   -0.118351   \n",
       "...                    ...                         ...   \n",
       "1911             -0.118400                   -0.118400   \n",
       "1912             -0.085724                   -0.085724   \n",
       "1913             -0.049246                   -0.049246   \n",
       "1914              0.030675                    0.030675   \n",
       "1915              0.133395                    0.133395   \n",
       "\n",
       "      multiplicative_terms_upper    weekly  weekly_lower  weekly_upper  \\\n",
       "0                      -0.356003 -0.088820     -0.088820     -0.088820   \n",
       "1                      -0.325666 -0.059012     -0.059012     -0.059012   \n",
       "2                      -0.292318 -0.025382     -0.025382     -0.025382   \n",
       "3                      -0.216337  0.051654      0.051654      0.051654   \n",
       "4                      -0.118351  0.151404      0.151404      0.151404   \n",
       "...                          ...       ...           ...           ...   \n",
       "1911                   -0.118400 -0.088820     -0.088820     -0.088820   \n",
       "1912                   -0.085724 -0.059012     -0.059012     -0.059012   \n",
       "1913                   -0.049246 -0.025382     -0.025382     -0.025382   \n",
       "1914                    0.030675  0.051654      0.051654      0.051654   \n",
       "1915                    0.133395  0.151404      0.151404      0.151404   \n",
       "\n",
       "        yearly  yearly_lower  yearly_upper  additive_terms  \\\n",
       "0    -0.267183     -0.267183     -0.267183             0.0   \n",
       "1    -0.266654     -0.266654     -0.266654             0.0   \n",
       "2    -0.266936     -0.266936     -0.266936             0.0   \n",
       "3    -0.267991     -0.267991     -0.267991             0.0   \n",
       "4    -0.269755     -0.269755     -0.269755             0.0   \n",
       "...        ...           ...           ...             ...   \n",
       "1911 -0.029580     -0.029580     -0.029580             0.0   \n",
       "1912 -0.026712     -0.026712     -0.026712             0.0   \n",
       "1913 -0.023864     -0.023864     -0.023864             0.0   \n",
       "1914 -0.020980     -0.020980     -0.020980             0.0   \n",
       "1915 -0.018009     -0.018009     -0.018009             0.0   \n",
       "\n",
       "      additive_terms_lower  additive_terms_upper       yhat  \n",
       "0                      0.0                   0.0  10.051119  \n",
       "1                      0.0                   0.0  10.528451  \n",
       "2                      0.0                   0.0  11.053147  \n",
       "3                      0.0                   0.0  12.244353  \n",
       "4                      0.0                   0.0  13.780369  \n",
       "...                    ...                   ...        ...  \n",
       "1911                   0.0                   0.0  20.070650  \n",
       "1912                   0.0                   0.0  20.816146  \n",
       "1913                   0.0                   0.0  21.648336  \n",
       "1914                   0.0                   0.0  23.469900  \n",
       "1915                   0.0                   0.0  25.810970  \n",
       "\n",
       "[1916 rows x 19 columns]"
      ]
     },
     "execution_count": 7,
     "metadata": {},
     "output_type": "execute_result"
    }
   ],
   "source": [
    "# Define a dataset including both historical dates & 90-days beyond the last available date\n",
    "future_pd = model.make_future_dataframe(\n",
    "  periods=90, \n",
    "  freq='d', \n",
    "  include_history=True\n",
    "  )\n",
    " \n",
    "# Predict over the dataset\n",
    "forecast_pd = model.predict(future_pd)\n",
    " \n",
    "# Display results\n",
    "forecast_pd"
   ]
  },
  {
   "cell_type": "code",
   "execution_count": 8,
   "metadata": {},
   "outputs": [
    {
     "data": {
      "image/png": "[encoded data removed]",
      "text/plain": [
       "<Figure size 900x900 with 3 Axes>"
      ]
     },
     "metadata": {},
     "output_type": "display_data"
    }
   ],
   "source": [
    "trends_fig = model.plot_components(forecast_pd)"
   ]
  },
  {
   "cell_type": "code",
   "execution_count": 9,
   "metadata": {},
   "outputs": [
    {
     "data": {
      "text/plain": [
       "(17171.75, 17626.75)"
      ]
     },
     "execution_count": 9,
     "metadata": {},
     "output_type": "execute_result"
    },
    {
     "data": {
      "image/png": "[encoded data removed]",
      "text/plain": [
       "<Figure size 1000x600 with 1 Axes>"
      ]
     },
     "metadata": {},
     "output_type": "display_data"
    }
   ],
   "source": [
    "predict_fig = model.plot( forecast_pd, xlabel='date', ylabel='sales')\n",
    " \n",
    "# adjust figure to display dates from last year + the 90 day forecast\n",
    "xlim = predict_fig.axes[0].get_xlim()\n",
    "new_xlim = ( xlim[1]-(180.0+365.0), xlim[1]-90.0)\n",
    "predict_fig.axes[0].set_xlim(new_xlim)"
   ]
  },
  {
   "cell_type": "code",
   "execution_count": 10,
   "metadata": {},
   "outputs": [
    {
     "name": "stdout",
     "output_type": "stream",
     "text": [
      "MAE: 3.4070271209628746\n",
      "MSE: 18.69332381240947\n",
      "RMSE: 4.323577663510796\n"
     ]
    }
   ],
   "source": [
    "# Convert the 'ds' column to datetime format if it's not already\n",
    "history_pd['ds'] = pd.to_datetime(history_pd['ds'])\n",
    "forecast_pd['ds'] = pd.to_datetime(forecast_pd['ds'])\n",
    " \n",
    "# get historical actuals & predictions for comparison\n",
    "actuals_pd = history_pd[history_pd['ds'].dt.date < date(2017, 1, 1)]['y']\n",
    "predicted_pd = forecast_pd[forecast_pd['ds'].dt.date < date(2017, 1, 1)]['yhat']\n",
    " \n",
    "# calculate evaluation metrics\n",
    "mae = mean_absolute_error(actuals_pd, predicted_pd)\n",
    "mse = mean_squared_error(actuals_pd, predicted_pd)\n",
    "rmse = sqrt(mse)\n",
    " \n",
    "# print metrics to the screen\n",
    "print( '\\n'.join(['MAE: {0}', 'MSE: {1}', 'RMSE: {2}']).format(mae, mse, rmse) )"
   ]
  },
  {
   "cell_type": "code",
   "execution_count": 11,
   "metadata": {},
   "outputs": [
    {
     "name": "stdout",
     "output_type": "stream",
     "text": [
      "MAPE: 20.412511952412476\n"
     ]
    }
   ],
   "source": [
    "def mean_absolute_percentage_error(y_true, y_pred):\n",
    "    y_true, y_pred = np.array(y_true), np.array(y_pred)\n",
    "    return np.mean(np.abs((y_true - y_pred) / y_true)) * 100\n",
    " \n",
    "mape = mean_absolute_percentage_error(actuals_pd, predicted_pd)\n",
    " \n",
    "print('MAPE: {}'.format(mape))"
   ]
  },
  {
   "cell_type": "code",
   "execution_count": 14,
   "metadata": {},
   "outputs": [
    {
     "name": "stdout",
     "output_type": "stream",
     "text": [
      "Total Possible Models 150\n"
     ]
    }
   ],
   "source": [
    "from sklearn.model_selection import ParameterGrid\n",
    "params_grid = {'seasonality_mode':('multiplicative','additive'),\n",
    "               'changepoint_prior_scale':[0.1,0.2,0.3,0.4,0.5],\n",
    "              'holidays_prior_scale':[0.1,0.2,0.3,0.4,0.5],\n",
    "              'n_changepoints' : [100,150,200]}\n",
    "grid = ParameterGrid(params_grid)\n",
    "cnt = 0\n",
    "for p in grid:\n",
    "    cnt = cnt+1\n",
    "\n",
    "print('Total Possible Models',cnt)"
   ]
  },
  {
   "cell_type": "code",
   "execution_count": 15,
   "metadata": {},
   "outputs": [
    {
     "name": "stderr",
     "output_type": "stream",
     "text": [
      "14:04:03 - cmdstanpy - INFO - Chain [1] start processing\n"
     ]
    },
    {
     "name": "stdout",
     "output_type": "stream",
     "text": [
      "{'changepoint_prior_scale': 0.1, 'holidays_prior_scale': 0.1, 'n_changepoints': 100, 'seasonality_mode': 'multiplicative'}\n"
     ]
    },
    {
     "name": "stderr",
     "output_type": "stream",
     "text": [
      "14:04:03 - cmdstanpy - INFO - Chain [1] done processing\n",
      "14:04:04 - cmdstanpy - INFO - Chain [1] start processing\n"
     ]
    },
    {
     "name": "stdout",
     "output_type": "stream",
     "text": [
      "Mean Absolute Percentage Error(MAPE)------------------------------------ 20.373660666560394\n",
      "{'changepoint_prior_scale': 0.1, 'holidays_prior_scale': 0.1, 'n_changepoints': 100, 'seasonality_mode': 'additive'}\n"
     ]
    },
    {
     "name": "stderr",
     "output_type": "stream",
     "text": [
      "14:04:04 - cmdstanpy - INFO - Chain [1] done processing\n",
      "14:04:04 - cmdstanpy - INFO - Chain [1] start processing\n"
     ]
    },
    {
     "name": "stdout",
     "output_type": "stream",
     "text": [
      "Mean Absolute Percentage Error(MAPE)------------------------------------ 20.405567359794567\n",
      "{'changepoint_prior_scale': 0.1, 'holidays_prior_scale': 0.1, 'n_changepoints': 200, 'seasonality_mode': 'multiplicative'}\n"
     ]
    },
    {
     "name": "stderr",
     "output_type": "stream",
     "text": [
      "14:04:04 - cmdstanpy - INFO - Chain [1] done processing\n",
      "14:04:05 - cmdstanpy - INFO - Chain [1] start processing\n"
     ]
    },
    {
     "name": "stdout",
     "output_type": "stream",
     "text": [
      "Mean Absolute Percentage Error(MAPE)------------------------------------ 20.381892694105144\n",
      "{'changepoint_prior_scale': 0.1, 'holidays_prior_scale': 0.1, 'n_changepoints': 200, 'seasonality_mode': 'additive'}\n"
     ]
    },
    {
     "name": "stderr",
     "output_type": "stream",
     "text": [
      "14:04:05 - cmdstanpy - INFO - Chain [1] done processing\n",
      "14:04:05 - cmdstanpy - INFO - Chain [1] start processing\n"
     ]
    },
    {
     "name": "stdout",
     "output_type": "stream",
     "text": [
      "Mean Absolute Percentage Error(MAPE)------------------------------------ 20.41007551637385\n",
      "{'changepoint_prior_scale': 0.1, 'holidays_prior_scale': 0.1, 'n_changepoints': 300, 'seasonality_mode': 'multiplicative'}\n"
     ]
    },
    {
     "name": "stderr",
     "output_type": "stream",
     "text": [
      "14:04:06 - cmdstanpy - INFO - Chain [1] done processing\n",
      "14:04:06 - cmdstanpy - INFO - Chain [1] start processing\n"
     ]
    },
    {
     "name": "stdout",
     "output_type": "stream",
     "text": [
      "Mean Absolute Percentage Error(MAPE)------------------------------------ 20.376275228470035\n",
      "{'changepoint_prior_scale': 0.1, 'holidays_prior_scale': 0.1, 'n_changepoints': 300, 'seasonality_mode': 'additive'}\n"
     ]
    },
    {
     "name": "stderr",
     "output_type": "stream",
     "text": [
      "14:04:06 - cmdstanpy - INFO - Chain [1] done processing\n",
      "14:04:07 - cmdstanpy - INFO - Chain [1] start processing\n"
     ]
    },
    {
     "name": "stdout",
     "output_type": "stream",
     "text": [
      "Mean Absolute Percentage Error(MAPE)------------------------------------ 20.407512938976367\n",
      "{'changepoint_prior_scale': 0.1, 'holidays_prior_scale': 0.5, 'n_changepoints': 100, 'seasonality_mode': 'multiplicative'}\n"
     ]
    },
    {
     "name": "stderr",
     "output_type": "stream",
     "text": [
      "14:04:07 - cmdstanpy - INFO - Chain [1] done processing\n",
      "14:04:07 - cmdstanpy - INFO - Chain [1] start processing\n"
     ]
    },
    {
     "name": "stdout",
     "output_type": "stream",
     "text": [
      "Mean Absolute Percentage Error(MAPE)------------------------------------ 20.344471065941857\n",
      "{'changepoint_prior_scale': 0.1, 'holidays_prior_scale': 0.5, 'n_changepoints': 100, 'seasonality_mode': 'additive'}\n"
     ]
    },
    {
     "name": "stderr",
     "output_type": "stream",
     "text": [
      "14:04:07 - cmdstanpy - INFO - Chain [1] done processing\n",
      "14:04:08 - cmdstanpy - INFO - Chain [1] start processing\n"
     ]
    },
    {
     "name": "stdout",
     "output_type": "stream",
     "text": [
      "Mean Absolute Percentage Error(MAPE)------------------------------------ 20.39966729656603\n",
      "{'changepoint_prior_scale': 0.1, 'holidays_prior_scale': 0.5, 'n_changepoints': 200, 'seasonality_mode': 'multiplicative'}\n"
     ]
    },
    {
     "name": "stderr",
     "output_type": "stream",
     "text": [
      "14:04:08 - cmdstanpy - INFO - Chain [1] done processing\n",
      "14:04:08 - cmdstanpy - INFO - Chain [1] start processing\n"
     ]
    },
    {
     "name": "stdout",
     "output_type": "stream",
     "text": [
      "Mean Absolute Percentage Error(MAPE)------------------------------------ 20.352262911673254\n",
      "{'changepoint_prior_scale': 0.1, 'holidays_prior_scale': 0.5, 'n_changepoints': 200, 'seasonality_mode': 'additive'}\n"
     ]
    },
    {
     "name": "stderr",
     "output_type": "stream",
     "text": [
      "14:04:09 - cmdstanpy - INFO - Chain [1] done processing\n",
      "14:04:09 - cmdstanpy - INFO - Chain [1] start processing\n"
     ]
    },
    {
     "name": "stdout",
     "output_type": "stream",
     "text": [
      "Mean Absolute Percentage Error(MAPE)------------------------------------ 20.401568489440578\n",
      "{'changepoint_prior_scale': 0.1, 'holidays_prior_scale': 0.5, 'n_changepoints': 300, 'seasonality_mode': 'multiplicative'}\n"
     ]
    },
    {
     "name": "stderr",
     "output_type": "stream",
     "text": [
      "14:04:10 - cmdstanpy - INFO - Chain [1] done processing\n",
      "14:04:10 - cmdstanpy - INFO - Chain [1] start processing\n"
     ]
    },
    {
     "name": "stdout",
     "output_type": "stream",
     "text": [
      "Mean Absolute Percentage Error(MAPE)------------------------------------ 20.348036022814362\n",
      "{'changepoint_prior_scale': 0.1, 'holidays_prior_scale': 0.5, 'n_changepoints': 300, 'seasonality_mode': 'additive'}\n"
     ]
    },
    {
     "name": "stderr",
     "output_type": "stream",
     "text": [
      "14:04:11 - cmdstanpy - INFO - Chain [1] done processing\n",
      "14:04:11 - cmdstanpy - INFO - Chain [1] start processing\n"
     ]
    },
    {
     "name": "stdout",
     "output_type": "stream",
     "text": [
      "Mean Absolute Percentage Error(MAPE)------------------------------------ 20.39709143642595\n",
      "{'changepoint_prior_scale': 0.1, 'holidays_prior_scale': 0.001, 'n_changepoints': 100, 'seasonality_mode': 'multiplicative'}\n"
     ]
    },
    {
     "name": "stderr",
     "output_type": "stream",
     "text": [
      "14:04:11 - cmdstanpy - INFO - Chain [1] done processing\n",
      "14:04:12 - cmdstanpy - INFO - Chain [1] start processing\n"
     ]
    },
    {
     "name": "stdout",
     "output_type": "stream",
     "text": [
      "Mean Absolute Percentage Error(MAPE)------------------------------------ 20.40584442383525\n",
      "{'changepoint_prior_scale': 0.1, 'holidays_prior_scale': 0.001, 'n_changepoints': 100, 'seasonality_mode': 'additive'}\n"
     ]
    },
    {
     "name": "stderr",
     "output_type": "stream",
     "text": [
      "14:04:12 - cmdstanpy - INFO - Chain [1] done processing\n",
      "14:04:12 - cmdstanpy - INFO - Chain [1] start processing\n"
     ]
    },
    {
     "name": "stdout",
     "output_type": "stream",
     "text": [
      "Mean Absolute Percentage Error(MAPE)------------------------------------ 20.47187706483588\n",
      "{'changepoint_prior_scale': 0.1, 'holidays_prior_scale': 0.001, 'n_changepoints': 200, 'seasonality_mode': 'multiplicative'}\n"
     ]
    },
    {
     "name": "stderr",
     "output_type": "stream",
     "text": [
      "14:04:12 - cmdstanpy - INFO - Chain [1] done processing\n",
      "14:04:13 - cmdstanpy - INFO - Chain [1] start processing\n"
     ]
    },
    {
     "name": "stdout",
     "output_type": "stream",
     "text": [
      "Mean Absolute Percentage Error(MAPE)------------------------------------ 20.408851196534506\n",
      "{'changepoint_prior_scale': 0.1, 'holidays_prior_scale': 0.001, 'n_changepoints': 200, 'seasonality_mode': 'additive'}\n"
     ]
    },
    {
     "name": "stderr",
     "output_type": "stream",
     "text": [
      "14:04:13 - cmdstanpy - INFO - Chain [1] done processing\n",
      "14:04:13 - cmdstanpy - INFO - Chain [1] start processing\n"
     ]
    },
    {
     "name": "stdout",
     "output_type": "stream",
     "text": [
      "Mean Absolute Percentage Error(MAPE)------------------------------------ 20.471887858223504\n",
      "{'changepoint_prior_scale': 0.1, 'holidays_prior_scale': 0.001, 'n_changepoints': 300, 'seasonality_mode': 'multiplicative'}\n"
     ]
    },
    {
     "name": "stderr",
     "output_type": "stream",
     "text": [
      "14:04:14 - cmdstanpy - INFO - Chain [1] done processing\n",
      "14:04:14 - cmdstanpy - INFO - Chain [1] start processing\n"
     ]
    },
    {
     "name": "stdout",
     "output_type": "stream",
     "text": [
      "Mean Absolute Percentage Error(MAPE)------------------------------------ 20.41386590485462\n",
      "{'changepoint_prior_scale': 0.1, 'holidays_prior_scale': 0.001, 'n_changepoints': 300, 'seasonality_mode': 'additive'}\n"
     ]
    },
    {
     "name": "stderr",
     "output_type": "stream",
     "text": [
      "14:04:14 - cmdstanpy - INFO - Chain [1] done processing\n",
      "14:04:15 - cmdstanpy - INFO - Chain [1] start processing\n"
     ]
    },
    {
     "name": "stdout",
     "output_type": "stream",
     "text": [
      "Mean Absolute Percentage Error(MAPE)------------------------------------ 20.469711970916475\n",
      "{'changepoint_prior_scale': 0.1, 'holidays_prior_scale': 0.15, 'n_changepoints': 100, 'seasonality_mode': 'multiplicative'}\n"
     ]
    },
    {
     "name": "stderr",
     "output_type": "stream",
     "text": [
      "14:04:15 - cmdstanpy - INFO - Chain [1] done processing\n",
      "14:04:15 - cmdstanpy - INFO - Chain [1] start processing\n"
     ]
    },
    {
     "name": "stdout",
     "output_type": "stream",
     "text": [
      "Mean Absolute Percentage Error(MAPE)------------------------------------ 20.36177463968288\n",
      "{'changepoint_prior_scale': 0.1, 'holidays_prior_scale': 0.15, 'n_changepoints': 100, 'seasonality_mode': 'additive'}\n"
     ]
    },
    {
     "name": "stderr",
     "output_type": "stream",
     "text": [
      "14:04:15 - cmdstanpy - INFO - Chain [1] done processing\n",
      "14:04:16 - cmdstanpy - INFO - Chain [1] start processing\n"
     ]
    },
    {
     "name": "stdout",
     "output_type": "stream",
     "text": [
      "Mean Absolute Percentage Error(MAPE)------------------------------------ 20.399201747723684\n",
      "{'changepoint_prior_scale': 0.1, 'holidays_prior_scale': 0.15, 'n_changepoints': 200, 'seasonality_mode': 'multiplicative'}\n"
     ]
    },
    {
     "name": "stderr",
     "output_type": "stream",
     "text": [
      "14:04:16 - cmdstanpy - INFO - Chain [1] done processing\n",
      "14:04:16 - cmdstanpy - INFO - Chain [1] start processing\n"
     ]
    },
    {
     "name": "stdout",
     "output_type": "stream",
     "text": [
      "Mean Absolute Percentage Error(MAPE)------------------------------------ 20.359740770186917\n",
      "{'changepoint_prior_scale': 0.1, 'holidays_prior_scale': 0.15, 'n_changepoints': 200, 'seasonality_mode': 'additive'}\n"
     ]
    },
    {
     "name": "stderr",
     "output_type": "stream",
     "text": [
      "14:04:17 - cmdstanpy - INFO - Chain [1] done processing\n",
      "14:04:17 - cmdstanpy - INFO - Chain [1] start processing\n"
     ]
    },
    {
     "name": "stdout",
     "output_type": "stream",
     "text": [
      "Mean Absolute Percentage Error(MAPE)------------------------------------ 20.39797038990237\n",
      "{'changepoint_prior_scale': 0.1, 'holidays_prior_scale': 0.15, 'n_changepoints': 300, 'seasonality_mode': 'multiplicative'}\n"
     ]
    },
    {
     "name": "stderr",
     "output_type": "stream",
     "text": [
      "14:04:18 - cmdstanpy - INFO - Chain [1] done processing\n",
      "14:04:18 - cmdstanpy - INFO - Chain [1] start processing\n"
     ]
    },
    {
     "name": "stdout",
     "output_type": "stream",
     "text": [
      "Mean Absolute Percentage Error(MAPE)------------------------------------ 20.364740825973023\n",
      "{'changepoint_prior_scale': 0.1, 'holidays_prior_scale': 0.15, 'n_changepoints': 300, 'seasonality_mode': 'additive'}\n"
     ]
    },
    {
     "name": "stderr",
     "output_type": "stream",
     "text": [
      "14:04:18 - cmdstanpy - INFO - Chain [1] done processing\n",
      "14:04:19 - cmdstanpy - INFO - Chain [1] start processing\n"
     ]
    },
    {
     "name": "stdout",
     "output_type": "stream",
     "text": [
      "Mean Absolute Percentage Error(MAPE)------------------------------------ 20.39826143224466\n",
      "{'changepoint_prior_scale': 0.5, 'holidays_prior_scale': 0.1, 'n_changepoints': 100, 'seasonality_mode': 'multiplicative'}\n"
     ]
    },
    {
     "name": "stderr",
     "output_type": "stream",
     "text": [
      "14:04:19 - cmdstanpy - INFO - Chain [1] done processing\n",
      "14:04:19 - cmdstanpy - INFO - Chain [1] start processing\n"
     ]
    },
    {
     "name": "stdout",
     "output_type": "stream",
     "text": [
      "Mean Absolute Percentage Error(MAPE)------------------------------------ 20.34587830183697\n",
      "{'changepoint_prior_scale': 0.5, 'holidays_prior_scale': 0.1, 'n_changepoints': 100, 'seasonality_mode': 'additive'}\n"
     ]
    },
    {
     "name": "stderr",
     "output_type": "stream",
     "text": [
      "14:04:20 - cmdstanpy - INFO - Chain [1] done processing\n",
      "14:04:20 - cmdstanpy - INFO - Chain [1] start processing\n"
     ]
    },
    {
     "name": "stdout",
     "output_type": "stream",
     "text": [
      "Mean Absolute Percentage Error(MAPE)------------------------------------ 20.28853492121307\n",
      "{'changepoint_prior_scale': 0.5, 'holidays_prior_scale': 0.1, 'n_changepoints': 200, 'seasonality_mode': 'multiplicative'}\n"
     ]
    },
    {
     "name": "stderr",
     "output_type": "stream",
     "text": [
      "14:04:21 - cmdstanpy - INFO - Chain [1] done processing\n",
      "14:04:21 - cmdstanpy - INFO - Chain [1] start processing\n"
     ]
    },
    {
     "name": "stdout",
     "output_type": "stream",
     "text": [
      "Mean Absolute Percentage Error(MAPE)------------------------------------ 20.34304134894904\n",
      "{'changepoint_prior_scale': 0.5, 'holidays_prior_scale': 0.1, 'n_changepoints': 200, 'seasonality_mode': 'additive'}\n"
     ]
    },
    {
     "name": "stderr",
     "output_type": "stream",
     "text": [
      "14:04:22 - cmdstanpy - INFO - Chain [1] done processing\n",
      "14:04:22 - cmdstanpy - INFO - Chain [1] start processing\n"
     ]
    },
    {
     "name": "stdout",
     "output_type": "stream",
     "text": [
      "Mean Absolute Percentage Error(MAPE)------------------------------------ 20.287249132883726\n",
      "{'changepoint_prior_scale': 0.5, 'holidays_prior_scale': 0.1, 'n_changepoints': 300, 'seasonality_mode': 'multiplicative'}\n"
     ]
    },
    {
     "name": "stderr",
     "output_type": "stream",
     "text": [
      "14:04:23 - cmdstanpy - INFO - Chain [1] done processing\n",
      "14:04:23 - cmdstanpy - INFO - Chain [1] start processing\n"
     ]
    },
    {
     "name": "stdout",
     "output_type": "stream",
     "text": [
      "Mean Absolute Percentage Error(MAPE)------------------------------------ 20.34534432628676\n",
      "{'changepoint_prior_scale': 0.5, 'holidays_prior_scale': 0.1, 'n_changepoints': 300, 'seasonality_mode': 'additive'}\n"
     ]
    },
    {
     "name": "stderr",
     "output_type": "stream",
     "text": [
      "14:04:25 - cmdstanpy - INFO - Chain [1] done processing\n",
      "14:04:25 - cmdstanpy - INFO - Chain [1] start processing\n"
     ]
    },
    {
     "name": "stdout",
     "output_type": "stream",
     "text": [
      "Mean Absolute Percentage Error(MAPE)------------------------------------ 20.287459794060577\n",
      "{'changepoint_prior_scale': 0.5, 'holidays_prior_scale': 0.5, 'n_changepoints': 100, 'seasonality_mode': 'multiplicative'}\n"
     ]
    },
    {
     "name": "stderr",
     "output_type": "stream",
     "text": [
      "14:04:26 - cmdstanpy - INFO - Chain [1] done processing\n",
      "14:04:26 - cmdstanpy - INFO - Chain [1] start processing\n"
     ]
    },
    {
     "name": "stdout",
     "output_type": "stream",
     "text": [
      "Mean Absolute Percentage Error(MAPE)------------------------------------ 20.314529271052557\n",
      "{'changepoint_prior_scale': 0.5, 'holidays_prior_scale': 0.5, 'n_changepoints': 100, 'seasonality_mode': 'additive'}\n"
     ]
    },
    {
     "name": "stderr",
     "output_type": "stream",
     "text": [
      "14:04:27 - cmdstanpy - INFO - Chain [1] done processing\n",
      "14:04:27 - cmdstanpy - INFO - Chain [1] start processing\n"
     ]
    },
    {
     "name": "stdout",
     "output_type": "stream",
     "text": [
      "Mean Absolute Percentage Error(MAPE)------------------------------------ 20.274532149330486\n",
      "{'changepoint_prior_scale': 0.5, 'holidays_prior_scale': 0.5, 'n_changepoints': 200, 'seasonality_mode': 'multiplicative'}\n"
     ]
    },
    {
     "name": "stderr",
     "output_type": "stream",
     "text": [
      "14:04:28 - cmdstanpy - INFO - Chain [1] done processing\n",
      "14:04:28 - cmdstanpy - INFO - Chain [1] start processing\n"
     ]
    },
    {
     "name": "stdout",
     "output_type": "stream",
     "text": [
      "Mean Absolute Percentage Error(MAPE)------------------------------------ 20.315085421048796\n",
      "{'changepoint_prior_scale': 0.5, 'holidays_prior_scale': 0.5, 'n_changepoints': 200, 'seasonality_mode': 'additive'}\n"
     ]
    },
    {
     "name": "stderr",
     "output_type": "stream",
     "text": [
      "14:04:29 - cmdstanpy - INFO - Chain [1] done processing\n",
      "14:04:30 - cmdstanpy - INFO - Chain [1] start processing\n"
     ]
    },
    {
     "name": "stdout",
     "output_type": "stream",
     "text": [
      "Mean Absolute Percentage Error(MAPE)------------------------------------ 20.274942290119643\n",
      "{'changepoint_prior_scale': 0.5, 'holidays_prior_scale': 0.5, 'n_changepoints': 300, 'seasonality_mode': 'multiplicative'}\n"
     ]
    },
    {
     "name": "stderr",
     "output_type": "stream",
     "text": [
      "14:04:31 - cmdstanpy - INFO - Chain [1] done processing\n",
      "14:04:31 - cmdstanpy - INFO - Chain [1] start processing\n"
     ]
    },
    {
     "name": "stdout",
     "output_type": "stream",
     "text": [
      "Mean Absolute Percentage Error(MAPE)------------------------------------ 20.312526741060253\n",
      "{'changepoint_prior_scale': 0.5, 'holidays_prior_scale': 0.5, 'n_changepoints': 300, 'seasonality_mode': 'additive'}\n"
     ]
    },
    {
     "name": "stderr",
     "output_type": "stream",
     "text": [
      "14:04:33 - cmdstanpy - INFO - Chain [1] done processing\n",
      "14:04:33 - cmdstanpy - INFO - Chain [1] start processing\n"
     ]
    },
    {
     "name": "stdout",
     "output_type": "stream",
     "text": [
      "Mean Absolute Percentage Error(MAPE)------------------------------------ 20.273737501523723\n",
      "{'changepoint_prior_scale': 0.5, 'holidays_prior_scale': 0.001, 'n_changepoints': 100, 'seasonality_mode': 'multiplicative'}\n"
     ]
    },
    {
     "name": "stderr",
     "output_type": "stream",
     "text": [
      "14:04:35 - cmdstanpy - INFO - Chain [1] done processing\n",
      "14:04:35 - cmdstanpy - INFO - Chain [1] start processing\n"
     ]
    },
    {
     "name": "stdout",
     "output_type": "stream",
     "text": [
      "Mean Absolute Percentage Error(MAPE)------------------------------------ 20.286913837787864\n",
      "{'changepoint_prior_scale': 0.5, 'holidays_prior_scale': 0.001, 'n_changepoints': 100, 'seasonality_mode': 'additive'}\n"
     ]
    },
    {
     "name": "stderr",
     "output_type": "stream",
     "text": [
      "14:04:36 - cmdstanpy - INFO - Chain [1] done processing\n",
      "14:04:36 - cmdstanpy - INFO - Chain [1] start processing\n"
     ]
    },
    {
     "name": "stdout",
     "output_type": "stream",
     "text": [
      "Mean Absolute Percentage Error(MAPE)------------------------------------ 20.352015861718662\n",
      "{'changepoint_prior_scale': 0.5, 'holidays_prior_scale': 0.001, 'n_changepoints': 200, 'seasonality_mode': 'multiplicative'}\n"
     ]
    },
    {
     "name": "stderr",
     "output_type": "stream",
     "text": [
      "14:04:39 - cmdstanpy - INFO - Chain [1] done processing\n",
      "14:04:40 - cmdstanpy - INFO - Chain [1] start processing\n"
     ]
    },
    {
     "name": "stdout",
     "output_type": "stream",
     "text": [
      "Mean Absolute Percentage Error(MAPE)------------------------------------ 20.3199007497828\n",
      "{'changepoint_prior_scale': 0.5, 'holidays_prior_scale': 0.001, 'n_changepoints': 200, 'seasonality_mode': 'additive'}\n"
     ]
    },
    {
     "name": "stderr",
     "output_type": "stream",
     "text": [
      "14:04:41 - cmdstanpy - INFO - Chain [1] done processing\n",
      "14:04:41 - cmdstanpy - INFO - Chain [1] start processing\n"
     ]
    },
    {
     "name": "stdout",
     "output_type": "stream",
     "text": [
      "Mean Absolute Percentage Error(MAPE)------------------------------------ 20.35177176321441\n",
      "{'changepoint_prior_scale': 0.5, 'holidays_prior_scale': 0.001, 'n_changepoints': 300, 'seasonality_mode': 'multiplicative'}\n"
     ]
    },
    {
     "name": "stderr",
     "output_type": "stream",
     "text": [
      "14:04:45 - cmdstanpy - INFO - Chain [1] done processing\n",
      "14:04:45 - cmdstanpy - INFO - Chain [1] start processing\n"
     ]
    },
    {
     "name": "stdout",
     "output_type": "stream",
     "text": [
      "Mean Absolute Percentage Error(MAPE)------------------------------------ 20.32931646493619\n",
      "{'changepoint_prior_scale': 0.5, 'holidays_prior_scale': 0.001, 'n_changepoints': 300, 'seasonality_mode': 'additive'}\n"
     ]
    },
    {
     "name": "stderr",
     "output_type": "stream",
     "text": [
      "14:04:47 - cmdstanpy - INFO - Chain [1] done processing\n",
      "14:04:47 - cmdstanpy - INFO - Chain [1] start processing\n"
     ]
    },
    {
     "name": "stdout",
     "output_type": "stream",
     "text": [
      "Mean Absolute Percentage Error(MAPE)------------------------------------ 20.35160670700458\n",
      "{'changepoint_prior_scale': 0.5, 'holidays_prior_scale': 0.15, 'n_changepoints': 100, 'seasonality_mode': 'multiplicative'}\n"
     ]
    },
    {
     "name": "stderr",
     "output_type": "stream",
     "text": [
      "14:04:47 - cmdstanpy - INFO - Chain [1] done processing\n",
      "14:04:48 - cmdstanpy - INFO - Chain [1] start processing\n"
     ]
    },
    {
     "name": "stdout",
     "output_type": "stream",
     "text": [
      "Mean Absolute Percentage Error(MAPE)------------------------------------ 20.332052712396887\n",
      "{'changepoint_prior_scale': 0.5, 'holidays_prior_scale': 0.15, 'n_changepoints': 100, 'seasonality_mode': 'additive'}\n"
     ]
    },
    {
     "name": "stderr",
     "output_type": "stream",
     "text": [
      "14:04:48 - cmdstanpy - INFO - Chain [1] done processing\n",
      "14:04:49 - cmdstanpy - INFO - Chain [1] start processing\n"
     ]
    },
    {
     "name": "stdout",
     "output_type": "stream",
     "text": [
      "Mean Absolute Percentage Error(MAPE)------------------------------------ 20.282154132198787\n",
      "{'changepoint_prior_scale': 0.5, 'holidays_prior_scale': 0.15, 'n_changepoints': 200, 'seasonality_mode': 'multiplicative'}\n"
     ]
    },
    {
     "name": "stderr",
     "output_type": "stream",
     "text": [
      "14:04:49 - cmdstanpy - INFO - Chain [1] done processing\n",
      "14:04:49 - cmdstanpy - INFO - Chain [1] start processing\n"
     ]
    },
    {
     "name": "stdout",
     "output_type": "stream",
     "text": [
      "Mean Absolute Percentage Error(MAPE)------------------------------------ 20.334976722222002\n",
      "{'changepoint_prior_scale': 0.5, 'holidays_prior_scale': 0.15, 'n_changepoints': 200, 'seasonality_mode': 'additive'}\n"
     ]
    },
    {
     "name": "stderr",
     "output_type": "stream",
     "text": [
      "14:04:51 - cmdstanpy - INFO - Chain [1] done processing\n",
      "14:04:51 - cmdstanpy - INFO - Chain [1] start processing\n"
     ]
    },
    {
     "name": "stdout",
     "output_type": "stream",
     "text": [
      "Mean Absolute Percentage Error(MAPE)------------------------------------ 20.28108302761654\n",
      "{'changepoint_prior_scale': 0.5, 'holidays_prior_scale': 0.15, 'n_changepoints': 300, 'seasonality_mode': 'multiplicative'}\n"
     ]
    },
    {
     "name": "stderr",
     "output_type": "stream",
     "text": [
      "14:04:52 - cmdstanpy - INFO - Chain [1] done processing\n",
      "14:04:52 - cmdstanpy - INFO - Chain [1] start processing\n"
     ]
    },
    {
     "name": "stdout",
     "output_type": "stream",
     "text": [
      "Mean Absolute Percentage Error(MAPE)------------------------------------ 20.332968139036538\n",
      "{'changepoint_prior_scale': 0.5, 'holidays_prior_scale': 0.15, 'n_changepoints': 300, 'seasonality_mode': 'additive'}\n"
     ]
    },
    {
     "name": "stderr",
     "output_type": "stream",
     "text": [
      "14:04:54 - cmdstanpy - INFO - Chain [1] done processing\n",
      "14:04:54 - cmdstanpy - INFO - Chain [1] start processing\n"
     ]
    },
    {
     "name": "stdout",
     "output_type": "stream",
     "text": [
      "Mean Absolute Percentage Error(MAPE)------------------------------------ 20.280609046495986\n",
      "{'changepoint_prior_scale': 0.001, 'holidays_prior_scale': 0.1, 'n_changepoints': 100, 'seasonality_mode': 'multiplicative'}\n"
     ]
    },
    {
     "name": "stderr",
     "output_type": "stream",
     "text": [
      "14:04:55 - cmdstanpy - INFO - Chain [1] done processing\n",
      "14:04:55 - cmdstanpy - INFO - Chain [1] start processing\n"
     ]
    },
    {
     "name": "stdout",
     "output_type": "stream",
     "text": [
      "Mean Absolute Percentage Error(MAPE)------------------------------------ 20.376831097790507\n",
      "{'changepoint_prior_scale': 0.001, 'holidays_prior_scale': 0.1, 'n_changepoints': 100, 'seasonality_mode': 'additive'}\n"
     ]
    },
    {
     "name": "stderr",
     "output_type": "stream",
     "text": [
      "14:04:55 - cmdstanpy - INFO - Chain [1] done processing\n",
      "14:04:55 - cmdstanpy - INFO - Chain [1] start processing\n"
     ]
    },
    {
     "name": "stdout",
     "output_type": "stream",
     "text": [
      "Mean Absolute Percentage Error(MAPE)------------------------------------ 20.55127032010375\n",
      "{'changepoint_prior_scale': 0.001, 'holidays_prior_scale': 0.1, 'n_changepoints': 200, 'seasonality_mode': 'multiplicative'}\n"
     ]
    },
    {
     "name": "stderr",
     "output_type": "stream",
     "text": [
      "14:04:56 - cmdstanpy - INFO - Chain [1] done processing\n",
      "14:04:56 - cmdstanpy - INFO - Chain [1] start processing\n"
     ]
    },
    {
     "name": "stdout",
     "output_type": "stream",
     "text": [
      "Mean Absolute Percentage Error(MAPE)------------------------------------ 20.113838863613374\n",
      "{'changepoint_prior_scale': 0.001, 'holidays_prior_scale': 0.1, 'n_changepoints': 200, 'seasonality_mode': 'additive'}\n"
     ]
    },
    {
     "name": "stderr",
     "output_type": "stream",
     "text": [
      "14:04:57 - cmdstanpy - INFO - Chain [1] done processing\n",
      "14:04:57 - cmdstanpy - INFO - Chain [1] start processing\n"
     ]
    },
    {
     "name": "stdout",
     "output_type": "stream",
     "text": [
      "Mean Absolute Percentage Error(MAPE)------------------------------------ 20.229056112139048\n",
      "{'changepoint_prior_scale': 0.001, 'holidays_prior_scale': 0.1, 'n_changepoints': 300, 'seasonality_mode': 'multiplicative'}\n"
     ]
    },
    {
     "name": "stderr",
     "output_type": "stream",
     "text": [
      "14:04:58 - cmdstanpy - INFO - Chain [1] done processing\n",
      "14:04:58 - cmdstanpy - INFO - Chain [1] start processing\n"
     ]
    },
    {
     "name": "stdout",
     "output_type": "stream",
     "text": [
      "Mean Absolute Percentage Error(MAPE)------------------------------------ 20.237949588230574\n",
      "{'changepoint_prior_scale': 0.001, 'holidays_prior_scale': 0.1, 'n_changepoints': 300, 'seasonality_mode': 'additive'}\n"
     ]
    },
    {
     "name": "stderr",
     "output_type": "stream",
     "text": [
      "14:04:59 - cmdstanpy - INFO - Chain [1] done processing\n",
      "14:04:59 - cmdstanpy - INFO - Chain [1] start processing\n"
     ]
    },
    {
     "name": "stdout",
     "output_type": "stream",
     "text": [
      "Mean Absolute Percentage Error(MAPE)------------------------------------ 20.4195730891871\n",
      "{'changepoint_prior_scale': 0.001, 'holidays_prior_scale': 0.5, 'n_changepoints': 100, 'seasonality_mode': 'multiplicative'}\n"
     ]
    },
    {
     "name": "stderr",
     "output_type": "stream",
     "text": [
      "14:05:00 - cmdstanpy - INFO - Chain [1] done processing\n",
      "14:05:00 - cmdstanpy - INFO - Chain [1] start processing\n"
     ]
    },
    {
     "name": "stdout",
     "output_type": "stream",
     "text": [
      "Mean Absolute Percentage Error(MAPE)------------------------------------ 20.327534860583143\n",
      "{'changepoint_prior_scale': 0.001, 'holidays_prior_scale': 0.5, 'n_changepoints': 100, 'seasonality_mode': 'additive'}\n"
     ]
    },
    {
     "name": "stderr",
     "output_type": "stream",
     "text": [
      "14:05:00 - cmdstanpy - INFO - Chain [1] done processing\n",
      "14:05:01 - cmdstanpy - INFO - Chain [1] start processing\n"
     ]
    },
    {
     "name": "stdout",
     "output_type": "stream",
     "text": [
      "Mean Absolute Percentage Error(MAPE)------------------------------------ 20.147085792610763\n",
      "{'changepoint_prior_scale': 0.001, 'holidays_prior_scale': 0.5, 'n_changepoints': 200, 'seasonality_mode': 'multiplicative'}\n"
     ]
    },
    {
     "name": "stderr",
     "output_type": "stream",
     "text": [
      "14:05:01 - cmdstanpy - INFO - Chain [1] done processing\n",
      "14:05:01 - cmdstanpy - INFO - Chain [1] start processing\n"
     ]
    },
    {
     "name": "stdout",
     "output_type": "stream",
     "text": [
      "Mean Absolute Percentage Error(MAPE)------------------------------------ 20.057963704877906\n",
      "{'changepoint_prior_scale': 0.001, 'holidays_prior_scale': 0.5, 'n_changepoints': 200, 'seasonality_mode': 'additive'}\n"
     ]
    },
    {
     "name": "stderr",
     "output_type": "stream",
     "text": [
      "14:05:02 - cmdstanpy - INFO - Chain [1] done processing\n",
      "14:05:02 - cmdstanpy - INFO - Chain [1] start processing\n"
     ]
    },
    {
     "name": "stdout",
     "output_type": "stream",
     "text": [
      "Mean Absolute Percentage Error(MAPE)------------------------------------ 20.177949729349272\n",
      "{'changepoint_prior_scale': 0.001, 'holidays_prior_scale': 0.5, 'n_changepoints': 300, 'seasonality_mode': 'multiplicative'}\n"
     ]
    },
    {
     "name": "stderr",
     "output_type": "stream",
     "text": [
      "14:05:03 - cmdstanpy - INFO - Chain [1] done processing\n",
      "14:05:03 - cmdstanpy - INFO - Chain [1] start processing\n"
     ]
    },
    {
     "name": "stdout",
     "output_type": "stream",
     "text": [
      "Mean Absolute Percentage Error(MAPE)------------------------------------ 20.386231284297693\n",
      "{'changepoint_prior_scale': 0.001, 'holidays_prior_scale': 0.5, 'n_changepoints': 300, 'seasonality_mode': 'additive'}\n"
     ]
    },
    {
     "name": "stderr",
     "output_type": "stream",
     "text": [
      "14:05:04 - cmdstanpy - INFO - Chain [1] done processing\n",
      "14:05:05 - cmdstanpy - INFO - Chain [1] start processing\n"
     ]
    },
    {
     "name": "stdout",
     "output_type": "stream",
     "text": [
      "Mean Absolute Percentage Error(MAPE)------------------------------------ 20.361937056256775\n",
      "{'changepoint_prior_scale': 0.001, 'holidays_prior_scale': 0.001, 'n_changepoints': 100, 'seasonality_mode': 'multiplicative'}\n"
     ]
    },
    {
     "name": "stderr",
     "output_type": "stream",
     "text": [
      "14:05:05 - cmdstanpy - INFO - Chain [1] done processing\n",
      "14:05:05 - cmdstanpy - INFO - Chain [1] start processing\n"
     ]
    },
    {
     "name": "stdout",
     "output_type": "stream",
     "text": [
      "Mean Absolute Percentage Error(MAPE)------------------------------------ 20.15674942510943\n",
      "{'changepoint_prior_scale': 0.001, 'holidays_prior_scale': 0.001, 'n_changepoints': 100, 'seasonality_mode': 'additive'}\n"
     ]
    },
    {
     "name": "stderr",
     "output_type": "stream",
     "text": [
      "14:05:05 - cmdstanpy - INFO - Chain [1] done processing\n",
      "14:05:06 - cmdstanpy - INFO - Chain [1] start processing\n"
     ]
    },
    {
     "name": "stdout",
     "output_type": "stream",
     "text": [
      "Mean Absolute Percentage Error(MAPE)------------------------------------ 20.137633414885062\n",
      "{'changepoint_prior_scale': 0.001, 'holidays_prior_scale': 0.001, 'n_changepoints': 200, 'seasonality_mode': 'multiplicative'}\n"
     ]
    },
    {
     "name": "stderr",
     "output_type": "stream",
     "text": [
      "14:05:06 - cmdstanpy - INFO - Chain [1] done processing\n",
      "14:05:06 - cmdstanpy - INFO - Chain [1] start processing\n"
     ]
    },
    {
     "name": "stdout",
     "output_type": "stream",
     "text": [
      "Mean Absolute Percentage Error(MAPE)------------------------------------ 20.173475144347524\n",
      "{'changepoint_prior_scale': 0.001, 'holidays_prior_scale': 0.001, 'n_changepoints': 200, 'seasonality_mode': 'additive'}\n"
     ]
    },
    {
     "name": "stderr",
     "output_type": "stream",
     "text": [
      "14:05:07 - cmdstanpy - INFO - Chain [1] done processing\n",
      "14:05:07 - cmdstanpy - INFO - Chain [1] start processing\n"
     ]
    },
    {
     "name": "stdout",
     "output_type": "stream",
     "text": [
      "Mean Absolute Percentage Error(MAPE)------------------------------------ 20.155265225396267\n",
      "{'changepoint_prior_scale': 0.001, 'holidays_prior_scale': 0.001, 'n_changepoints': 300, 'seasonality_mode': 'multiplicative'}\n"
     ]
    },
    {
     "name": "stderr",
     "output_type": "stream",
     "text": [
      "14:05:07 - cmdstanpy - INFO - Chain [1] done processing\n",
      "14:05:08 - cmdstanpy - INFO - Chain [1] start processing\n"
     ]
    },
    {
     "name": "stdout",
     "output_type": "stream",
     "text": [
      "Mean Absolute Percentage Error(MAPE)------------------------------------ 20.204333545072643\n",
      "{'changepoint_prior_scale': 0.001, 'holidays_prior_scale': 0.001, 'n_changepoints': 300, 'seasonality_mode': 'additive'}\n"
     ]
    },
    {
     "name": "stderr",
     "output_type": "stream",
     "text": [
      "14:05:08 - cmdstanpy - INFO - Chain [1] done processing\n",
      "14:05:09 - cmdstanpy - INFO - Chain [1] start processing\n",
      "14:05:09 - cmdstanpy - INFO - Chain [1] done processing\n"
     ]
    },
    {
     "name": "stdout",
     "output_type": "stream",
     "text": [
      "Mean Absolute Percentage Error(MAPE)------------------------------------ 20.167363242959535\n",
      "{'changepoint_prior_scale': 0.001, 'holidays_prior_scale': 0.15, 'n_changepoints': 100, 'seasonality_mode': 'multiplicative'}\n"
     ]
    },
    {
     "name": "stderr",
     "output_type": "stream",
     "text": [
      "14:05:09 - cmdstanpy - INFO - Chain [1] start processing\n"
     ]
    },
    {
     "name": "stdout",
     "output_type": "stream",
     "text": [
      "Mean Absolute Percentage Error(MAPE)------------------------------------ 20.374550168865653\n",
      "{'changepoint_prior_scale': 0.001, 'holidays_prior_scale': 0.15, 'n_changepoints': 100, 'seasonality_mode': 'additive'}\n"
     ]
    },
    {
     "name": "stderr",
     "output_type": "stream",
     "text": [
      "14:05:09 - cmdstanpy - INFO - Chain [1] done processing\n",
      "14:05:10 - cmdstanpy - INFO - Chain [1] start processing\n"
     ]
    },
    {
     "name": "stdout",
     "output_type": "stream",
     "text": [
      "Mean Absolute Percentage Error(MAPE)------------------------------------ 20.263708683162594\n",
      "{'changepoint_prior_scale': 0.001, 'holidays_prior_scale': 0.15, 'n_changepoints': 200, 'seasonality_mode': 'multiplicative'}\n"
     ]
    },
    {
     "name": "stderr",
     "output_type": "stream",
     "text": [
      "14:05:10 - cmdstanpy - INFO - Chain [1] done processing\n",
      "14:05:10 - cmdstanpy - INFO - Chain [1] start processing\n"
     ]
    },
    {
     "name": "stdout",
     "output_type": "stream",
     "text": [
      "Mean Absolute Percentage Error(MAPE)------------------------------------ 20.264038655327553\n",
      "{'changepoint_prior_scale': 0.001, 'holidays_prior_scale': 0.15, 'n_changepoints': 200, 'seasonality_mode': 'additive'}\n"
     ]
    },
    {
     "name": "stderr",
     "output_type": "stream",
     "text": [
      "14:05:10 - cmdstanpy - INFO - Chain [1] done processing\n",
      "14:05:11 - cmdstanpy - INFO - Chain [1] start processing\n"
     ]
    },
    {
     "name": "stdout",
     "output_type": "stream",
     "text": [
      "Mean Absolute Percentage Error(MAPE)------------------------------------ 20.17232460352407\n",
      "{'changepoint_prior_scale': 0.001, 'holidays_prior_scale': 0.15, 'n_changepoints': 300, 'seasonality_mode': 'multiplicative'}\n"
     ]
    },
    {
     "name": "stderr",
     "output_type": "stream",
     "text": [
      "14:05:11 - cmdstanpy - INFO - Chain [1] done processing\n",
      "14:05:12 - cmdstanpy - INFO - Chain [1] start processing\n"
     ]
    },
    {
     "name": "stdout",
     "output_type": "stream",
     "text": [
      "Mean Absolute Percentage Error(MAPE)------------------------------------ 20.271006309924445\n",
      "{'changepoint_prior_scale': 0.001, 'holidays_prior_scale': 0.15, 'n_changepoints': 300, 'seasonality_mode': 'additive'}\n"
     ]
    },
    {
     "name": "stderr",
     "output_type": "stream",
     "text": [
      "14:05:13 - cmdstanpy - INFO - Chain [1] done processing\n",
      "14:05:13 - cmdstanpy - INFO - Chain [1] start processing\n"
     ]
    },
    {
     "name": "stdout",
     "output_type": "stream",
     "text": [
      "Mean Absolute Percentage Error(MAPE)------------------------------------ 20.300878711846025\n",
      "{'changepoint_prior_scale': 0.15, 'holidays_prior_scale': 0.1, 'n_changepoints': 100, 'seasonality_mode': 'multiplicative'}\n"
     ]
    },
    {
     "name": "stderr",
     "output_type": "stream",
     "text": [
      "14:05:13 - cmdstanpy - INFO - Chain [1] done processing\n",
      "14:05:14 - cmdstanpy - INFO - Chain [1] start processing\n"
     ]
    },
    {
     "name": "stdout",
     "output_type": "stream",
     "text": [
      "Mean Absolute Percentage Error(MAPE)------------------------------------ 20.37584302601508\n",
      "{'changepoint_prior_scale': 0.15, 'holidays_prior_scale': 0.1, 'n_changepoints': 100, 'seasonality_mode': 'additive'}\n"
     ]
    },
    {
     "name": "stderr",
     "output_type": "stream",
     "text": [
      "14:05:14 - cmdstanpy - INFO - Chain [1] done processing\n",
      "14:05:14 - cmdstanpy - INFO - Chain [1] start processing\n"
     ]
    },
    {
     "name": "stdout",
     "output_type": "stream",
     "text": [
      "Mean Absolute Percentage Error(MAPE)------------------------------------ 20.38590224230557\n",
      "{'changepoint_prior_scale': 0.15, 'holidays_prior_scale': 0.1, 'n_changepoints': 200, 'seasonality_mode': 'multiplicative'}\n"
     ]
    },
    {
     "name": "stderr",
     "output_type": "stream",
     "text": [
      "14:05:15 - cmdstanpy - INFO - Chain [1] done processing\n",
      "14:05:15 - cmdstanpy - INFO - Chain [1] start processing\n"
     ]
    },
    {
     "name": "stdout",
     "output_type": "stream",
     "text": [
      "Mean Absolute Percentage Error(MAPE)------------------------------------ 20.376872713161028\n",
      "{'changepoint_prior_scale': 0.15, 'holidays_prior_scale': 0.1, 'n_changepoints': 200, 'seasonality_mode': 'additive'}\n"
     ]
    },
    {
     "name": "stderr",
     "output_type": "stream",
     "text": [
      "14:05:16 - cmdstanpy - INFO - Chain [1] done processing\n",
      "14:05:16 - cmdstanpy - INFO - Chain [1] start processing\n"
     ]
    },
    {
     "name": "stdout",
     "output_type": "stream",
     "text": [
      "Mean Absolute Percentage Error(MAPE)------------------------------------ 20.367322913923765\n",
      "{'changepoint_prior_scale': 0.15, 'holidays_prior_scale': 0.1, 'n_changepoints': 300, 'seasonality_mode': 'multiplicative'}\n"
     ]
    },
    {
     "name": "stderr",
     "output_type": "stream",
     "text": [
      "14:05:17 - cmdstanpy - INFO - Chain [1] done processing\n",
      "14:05:17 - cmdstanpy - INFO - Chain [1] start processing\n"
     ]
    },
    {
     "name": "stdout",
     "output_type": "stream",
     "text": [
      "Mean Absolute Percentage Error(MAPE)------------------------------------ 20.376778174158943\n",
      "{'changepoint_prior_scale': 0.15, 'holidays_prior_scale': 0.1, 'n_changepoints': 300, 'seasonality_mode': 'additive'}\n"
     ]
    },
    {
     "name": "stderr",
     "output_type": "stream",
     "text": [
      "14:05:17 - cmdstanpy - INFO - Chain [1] done processing\n",
      "14:05:18 - cmdstanpy - INFO - Chain [1] start processing\n"
     ]
    },
    {
     "name": "stdout",
     "output_type": "stream",
     "text": [
      "Mean Absolute Percentage Error(MAPE)------------------------------------ 20.389721182344957\n",
      "{'changepoint_prior_scale': 0.15, 'holidays_prior_scale': 0.5, 'n_changepoints': 100, 'seasonality_mode': 'multiplicative'}\n"
     ]
    },
    {
     "name": "stderr",
     "output_type": "stream",
     "text": [
      "14:05:18 - cmdstanpy - INFO - Chain [1] done processing\n",
      "14:05:18 - cmdstanpy - INFO - Chain [1] start processing\n"
     ]
    },
    {
     "name": "stdout",
     "output_type": "stream",
     "text": [
      "Mean Absolute Percentage Error(MAPE)------------------------------------ 20.34147389591612\n",
      "{'changepoint_prior_scale': 0.15, 'holidays_prior_scale': 0.5, 'n_changepoints': 100, 'seasonality_mode': 'additive'}\n"
     ]
    },
    {
     "name": "stderr",
     "output_type": "stream",
     "text": [
      "14:05:18 - cmdstanpy - INFO - Chain [1] done processing\n",
      "14:05:19 - cmdstanpy - INFO - Chain [1] start processing\n"
     ]
    },
    {
     "name": "stdout",
     "output_type": "stream",
     "text": [
      "Mean Absolute Percentage Error(MAPE)------------------------------------ 20.383949217772496\n",
      "{'changepoint_prior_scale': 0.15, 'holidays_prior_scale': 0.5, 'n_changepoints': 200, 'seasonality_mode': 'multiplicative'}\n"
     ]
    },
    {
     "name": "stderr",
     "output_type": "stream",
     "text": [
      "14:05:19 - cmdstanpy - INFO - Chain [1] done processing\n",
      "14:05:19 - cmdstanpy - INFO - Chain [1] start processing\n"
     ]
    },
    {
     "name": "stdout",
     "output_type": "stream",
     "text": [
      "Mean Absolute Percentage Error(MAPE)------------------------------------ 20.342944743023992\n",
      "{'changepoint_prior_scale': 0.15, 'holidays_prior_scale': 0.5, 'n_changepoints': 200, 'seasonality_mode': 'additive'}\n"
     ]
    },
    {
     "name": "stderr",
     "output_type": "stream",
     "text": [
      "14:05:20 - cmdstanpy - INFO - Chain [1] done processing\n",
      "14:05:20 - cmdstanpy - INFO - Chain [1] start processing\n"
     ]
    },
    {
     "name": "stdout",
     "output_type": "stream",
     "text": [
      "Mean Absolute Percentage Error(MAPE)------------------------------------ 20.37170506007985\n",
      "{'changepoint_prior_scale': 0.15, 'holidays_prior_scale': 0.5, 'n_changepoints': 300, 'seasonality_mode': 'multiplicative'}\n"
     ]
    },
    {
     "name": "stderr",
     "output_type": "stream",
     "text": [
      "14:05:21 - cmdstanpy - INFO - Chain [1] done processing\n",
      "14:05:21 - cmdstanpy - INFO - Chain [1] start processing\n"
     ]
    },
    {
     "name": "stdout",
     "output_type": "stream",
     "text": [
      "Mean Absolute Percentage Error(MAPE)------------------------------------ 20.346099002040578\n",
      "{'changepoint_prior_scale': 0.15, 'holidays_prior_scale': 0.5, 'n_changepoints': 300, 'seasonality_mode': 'additive'}\n"
     ]
    },
    {
     "name": "stderr",
     "output_type": "stream",
     "text": [
      "14:05:22 - cmdstanpy - INFO - Chain [1] done processing\n",
      "14:05:22 - cmdstanpy - INFO - Chain [1] start processing\n"
     ]
    },
    {
     "name": "stdout",
     "output_type": "stream",
     "text": [
      "Mean Absolute Percentage Error(MAPE)------------------------------------ 20.377746769161504\n",
      "{'changepoint_prior_scale': 0.15, 'holidays_prior_scale': 0.001, 'n_changepoints': 100, 'seasonality_mode': 'multiplicative'}\n"
     ]
    },
    {
     "name": "stderr",
     "output_type": "stream",
     "text": [
      "14:05:22 - cmdstanpy - INFO - Chain [1] done processing\n",
      "14:05:22 - cmdstanpy - INFO - Chain [1] start processing\n"
     ]
    },
    {
     "name": "stdout",
     "output_type": "stream",
     "text": [
      "Mean Absolute Percentage Error(MAPE)------------------------------------ 20.406351646011885\n",
      "{'changepoint_prior_scale': 0.15, 'holidays_prior_scale': 0.001, 'n_changepoints': 100, 'seasonality_mode': 'additive'}\n"
     ]
    },
    {
     "name": "stderr",
     "output_type": "stream",
     "text": [
      "14:05:23 - cmdstanpy - INFO - Chain [1] done processing\n",
      "14:05:23 - cmdstanpy - INFO - Chain [1] start processing\n"
     ]
    },
    {
     "name": "stdout",
     "output_type": "stream",
     "text": [
      "Mean Absolute Percentage Error(MAPE)------------------------------------ 20.46132862589392\n",
      "{'changepoint_prior_scale': 0.15, 'holidays_prior_scale': 0.001, 'n_changepoints': 200, 'seasonality_mode': 'multiplicative'}\n"
     ]
    },
    {
     "name": "stderr",
     "output_type": "stream",
     "text": [
      "14:05:23 - cmdstanpy - INFO - Chain [1] done processing\n",
      "14:05:23 - cmdstanpy - INFO - Chain [1] start processing\n"
     ]
    },
    {
     "name": "stdout",
     "output_type": "stream",
     "text": [
      "Mean Absolute Percentage Error(MAPE)------------------------------------ 20.406884211856312\n",
      "{'changepoint_prior_scale': 0.15, 'holidays_prior_scale': 0.001, 'n_changepoints': 200, 'seasonality_mode': 'additive'}\n"
     ]
    },
    {
     "name": "stderr",
     "output_type": "stream",
     "text": [
      "14:05:24 - cmdstanpy - INFO - Chain [1] done processing\n",
      "14:05:24 - cmdstanpy - INFO - Chain [1] start processing\n"
     ]
    },
    {
     "name": "stdout",
     "output_type": "stream",
     "text": [
      "Mean Absolute Percentage Error(MAPE)------------------------------------ 20.45507787414863\n",
      "{'changepoint_prior_scale': 0.15, 'holidays_prior_scale': 0.001, 'n_changepoints': 300, 'seasonality_mode': 'multiplicative'}\n"
     ]
    },
    {
     "name": "stderr",
     "output_type": "stream",
     "text": [
      "14:05:25 - cmdstanpy - INFO - Chain [1] done processing\n",
      "14:05:25 - cmdstanpy - INFO - Chain [1] start processing\n"
     ]
    },
    {
     "name": "stdout",
     "output_type": "stream",
     "text": [
      "Mean Absolute Percentage Error(MAPE)------------------------------------ 20.407465972694503\n",
      "{'changepoint_prior_scale': 0.15, 'holidays_prior_scale': 0.001, 'n_changepoints': 300, 'seasonality_mode': 'additive'}\n"
     ]
    },
    {
     "name": "stderr",
     "output_type": "stream",
     "text": [
      "14:05:26 - cmdstanpy - INFO - Chain [1] done processing\n",
      "14:05:26 - cmdstanpy - INFO - Chain [1] start processing\n"
     ]
    },
    {
     "name": "stdout",
     "output_type": "stream",
     "text": [
      "Mean Absolute Percentage Error(MAPE)------------------------------------ 20.451303218187842\n",
      "{'changepoint_prior_scale': 0.15, 'holidays_prior_scale': 0.15, 'n_changepoints': 100, 'seasonality_mode': 'multiplicative'}\n"
     ]
    },
    {
     "name": "stderr",
     "output_type": "stream",
     "text": [
      "14:05:26 - cmdstanpy - INFO - Chain [1] done processing\n",
      "14:05:26 - cmdstanpy - INFO - Chain [1] start processing\n"
     ]
    },
    {
     "name": "stdout",
     "output_type": "stream",
     "text": [
      "Mean Absolute Percentage Error(MAPE)------------------------------------ 20.36249613801689\n",
      "{'changepoint_prior_scale': 0.15, 'holidays_prior_scale': 0.15, 'n_changepoints': 100, 'seasonality_mode': 'additive'}\n"
     ]
    },
    {
     "name": "stderr",
     "output_type": "stream",
     "text": [
      "14:05:27 - cmdstanpy - INFO - Chain [1] done processing\n",
      "14:05:27 - cmdstanpy - INFO - Chain [1] start processing\n"
     ]
    },
    {
     "name": "stdout",
     "output_type": "stream",
     "text": [
      "Mean Absolute Percentage Error(MAPE)------------------------------------ 20.375721127104157\n",
      "{'changepoint_prior_scale': 0.15, 'holidays_prior_scale': 0.15, 'n_changepoints': 200, 'seasonality_mode': 'multiplicative'}\n"
     ]
    },
    {
     "name": "stderr",
     "output_type": "stream",
     "text": [
      "14:05:27 - cmdstanpy - INFO - Chain [1] done processing\n",
      "14:05:28 - cmdstanpy - INFO - Chain [1] start processing\n"
     ]
    },
    {
     "name": "stdout",
     "output_type": "stream",
     "text": [
      "Mean Absolute Percentage Error(MAPE)------------------------------------ 20.36384030474902\n",
      "{'changepoint_prior_scale': 0.15, 'holidays_prior_scale': 0.15, 'n_changepoints': 200, 'seasonality_mode': 'additive'}\n"
     ]
    },
    {
     "name": "stderr",
     "output_type": "stream",
     "text": [
      "14:05:28 - cmdstanpy - INFO - Chain [1] done processing\n",
      "14:05:28 - cmdstanpy - INFO - Chain [1] start processing\n"
     ]
    },
    {
     "name": "stdout",
     "output_type": "stream",
     "text": [
      "Mean Absolute Percentage Error(MAPE)------------------------------------ 20.376023303074096\n",
      "{'changepoint_prior_scale': 0.15, 'holidays_prior_scale': 0.15, 'n_changepoints': 300, 'seasonality_mode': 'multiplicative'}\n"
     ]
    },
    {
     "name": "stderr",
     "output_type": "stream",
     "text": [
      "14:05:29 - cmdstanpy - INFO - Chain [1] done processing\n",
      "14:05:29 - cmdstanpy - INFO - Chain [1] start processing\n"
     ]
    },
    {
     "name": "stdout",
     "output_type": "stream",
     "text": [
      "Mean Absolute Percentage Error(MAPE)------------------------------------ 20.36131222570134\n",
      "{'changepoint_prior_scale': 0.15, 'holidays_prior_scale': 0.15, 'n_changepoints': 300, 'seasonality_mode': 'additive'}\n"
     ]
    },
    {
     "name": "stderr",
     "output_type": "stream",
     "text": [
      "14:05:30 - cmdstanpy - INFO - Chain [1] done processing\n"
     ]
    },
    {
     "name": "stdout",
     "output_type": "stream",
     "text": [
      "Mean Absolute Percentage Error(MAPE)------------------------------------ 20.375076714277842\n"
     ]
    }
   ],
   "source": [
    "warnings.filterwarnings(\"ignore\")\n",
    "plt.style.use('fivethirtyeight')\n",
    " \n",
    "# Create holidays DataFrame\n",
    "holiday = pd.DataFrame([])\n",
    "holidays = UnitedStates()\n",
    "years = [2013, 2014, 2015, 2016]\n",
    " \n",
    "for year in years:\n",
    "    for date, name in holidays.holidays(year):\n",
    "        holiday = holiday.append(pd.DataFrame({'ds': date, 'holiday': \"US-Holidays\"}, index=[0]), ignore_index=True)\n",
    " \n",
    "holiday['ds'] = pd.to_datetime(holiday['ds'], format='%Y-%m-%d', errors='ignore')\n",
    " \n",
    " \n",
    "# Set start and end dates for the evaluation\n",
    "strt = '2013-01-01'\n",
    "end = '2016-12-31'\n",
    " \n",
    "# Grid of parameters to search\n",
    "grid = {'changepoint_prior_scale': [0.1, 0.5, 0.001, 0.15],\n",
    "        'holidays_prior_scale': [0.1, 0.5, 0.001, 0.15],\n",
    "        'n_changepoints': [100, 200, 300],\n",
    "        'seasonality_mode': ['multiplicative', 'additive']}\n",
    " \n",
    "# Perform the search\n",
    "model_parameters = pd.DataFrame(columns=['MAPE', 'Parameters'])\n",
    "for p in itertools.product(*grid.values()):\n",
    "    params = dict(zip(grid.keys(), p))\n",
    "    print(params)\n",
    " \n",
    "    train_model = Prophet(changepoint_prior_scale=params['changepoint_prior_scale'],\n",
    "                          holidays_prior_scale=params['holidays_prior_scale'],\n",
    "                          n_changepoints=params['n_changepoints'],\n",
    "                          seasonality_mode=params['seasonality_mode'],\n",
    "                          weekly_seasonality=True,\n",
    "                          daily_seasonality=True,\n",
    "                          yearly_seasonality=True,\n",
    "                          holidays=holiday,\n",
    "                          interval_width=0.95)\n",
    "    train_model.add_country_holidays(country_name='US')\n",
    "    train_model.fit(history_pd)\n",
    "    train_forecast = train_model.make_future_dataframe(periods=0, freq='D', include_history=True)\n",
    "    train_forecast = train_model.predict(train_forecast)\n",
    "    test = train_forecast[(train_forecast['ds'] >= pd.to_datetime(strt)) & (train_forecast['ds'] <= pd.to_datetime(end))][['ds', 'yhat']]\n",
    "    Actual = history_pd[(history_pd['ds'] >= pd.to_datetime(strt)) & (history_pd['ds'] <= pd.to_datetime(end))]\n",
    "    MAPE = mean_absolute_percentage_error(Actual['y'], abs(test['yhat']))\n",
    "    print('Mean Absolute Percentage Error(MAPE)------------------------------------', MAPE)\n",
    "    model_parameters = model_parameters.append({'MAPE': MAPE, 'Parameters': params}, ignore_index=True)\n"
   ]
  },
  {
   "cell_type": "code",
   "execution_count": 16,
   "metadata": {},
   "outputs": [
    {
     "data": {
      "text/html": [
       "<div>\n",
       "<style scoped>\n",
       "    .dataframe tbody tr th:only-of-type {\n",
       "        vertical-align: middle;\n",
       "    }\n",
       "\n",
       "    .dataframe tbody tr th {\n",
       "        vertical-align: top;\n",
       "    }\n",
       "\n",
       "    .dataframe thead th {\n",
       "        text-align: right;\n",
       "    }\n",
       "</style>\n",
       "<table border=\"1\" class=\"dataframe\">\n",
       "  <thead>\n",
       "    <tr style=\"text-align: right;\">\n",
       "      <th></th>\n",
       "      <th>MAPE</th>\n",
       "      <th>Parameters</th>\n",
       "    </tr>\n",
       "  </thead>\n",
       "  <tbody>\n",
       "    <tr>\n",
       "      <th>0</th>\n",
       "      <td>20.057964</td>\n",
       "      <td>{'changepoint_prior_scale': 0.001, 'holidays_p...</td>\n",
       "    </tr>\n",
       "    <tr>\n",
       "      <th>1</th>\n",
       "      <td>20.113839</td>\n",
       "      <td>{'changepoint_prior_scale': 0.001, 'holidays_p...</td>\n",
       "    </tr>\n",
       "    <tr>\n",
       "      <th>2</th>\n",
       "      <td>20.137633</td>\n",
       "      <td>{'changepoint_prior_scale': 0.001, 'holidays_p...</td>\n",
       "    </tr>\n",
       "    <tr>\n",
       "      <th>3</th>\n",
       "      <td>20.147086</td>\n",
       "      <td>{'changepoint_prior_scale': 0.001, 'holidays_p...</td>\n",
       "    </tr>\n",
       "    <tr>\n",
       "      <th>4</th>\n",
       "      <td>20.155265</td>\n",
       "      <td>{'changepoint_prior_scale': 0.001, 'holidays_p...</td>\n",
       "    </tr>\n",
       "  </tbody>\n",
       "</table>\n",
       "</div>"
      ],
      "text/plain": [
       "        MAPE                                         Parameters\n",
       "0  20.057964  {'changepoint_prior_scale': 0.001, 'holidays_p...\n",
       "1  20.113839  {'changepoint_prior_scale': 0.001, 'holidays_p...\n",
       "2  20.137633  {'changepoint_prior_scale': 0.001, 'holidays_p...\n",
       "3  20.147086  {'changepoint_prior_scale': 0.001, 'holidays_p...\n",
       "4  20.155265  {'changepoint_prior_scale': 0.001, 'holidays_p..."
      ]
     },
     "execution_count": 16,
     "metadata": {},
     "output_type": "execute_result"
    }
   ],
   "source": [
    "parameters = model_parameters.sort_values(by=['MAPE'])\n",
    "parameters = parameters.reset_index(drop=True)\n",
    "parameters.head()"
   ]
  },
  {
   "cell_type": "code",
   "execution_count": 17,
   "metadata": {},
   "outputs": [
    {
     "data": {
      "text/plain": [
       "{'changepoint_prior_scale': 0.001,\n",
       " 'holidays_prior_scale': 0.5,\n",
       " 'n_changepoints': 200,\n",
       " 'seasonality_mode': 'multiplicative'}"
      ]
     },
     "execution_count": 17,
     "metadata": {},
     "output_type": "execute_result"
    }
   ],
   "source": [
    "parameters['Parameters'][0]"
   ]
  },
  {
   "cell_type": "code",
   "execution_count": 23,
   "metadata": {},
   "outputs": [],
   "source": [
    "def train_prophet_model(store, item):\n",
    "\n",
    "    # Load data into a Pandas DataFrame\n",
    "    df = pd.read_csv(csv_file)\n",
    "    \n",
    "    # Filter DataFrame for store and item\n",
    "    df = df[(df['store'] == store) & (df['item'] == item)]\n",
    " \n",
    "    # Select ds and y columns\n",
    "    df = df[['date', 'sales']]\n",
    "    df.columns = ['ds', 'y']\n",
    " \n",
    "    # Set model parameters using best parameters\n",
    "    model = Prophet(\n",
    "        interval_width=0.95,\n",
    "        growth='linear',\n",
    "        daily_seasonality=False,\n",
    "        weekly_seasonality=True,\n",
    "        yearly_seasonality=True,\n",
    "        changepoint_prior_scale=0.001,\n",
    "        holidays_prior_scale=0.5,\n",
    "        n_changepoints=200,\n",
    "        seasonality_mode='multiplicative'\n",
    "    )\n",
    "    \n",
    "    # Train the Prophet model\n",
    "    model.fit(df)\n",
    " \n",
    "    return model"
   ]
  },
  {
   "cell_type": "code",
   "execution_count": 24,
   "metadata": {},
   "outputs": [],
   "source": [
    "# Get the unique stores and items\n",
    "unique_stores = df['store'].unique().tolist()\n",
    "unique_items = df['item'].unique().tolist()"
   ]
  },
  {
   "cell_type": "code",
   "execution_count": 25,
   "metadata": {},
   "outputs": [
    {
     "name": "stderr",
     "output_type": "stream",
     "text": [
      "14:30:32 - cmdstanpy - INFO - Chain [1] start processing\n",
      "14:30:33 - cmdstanpy - INFO - Chain [1] done processing\n",
      "14:30:33 - cmdstanpy - INFO - Chain [1] start processing\n",
      "14:30:33 - cmdstanpy - INFO - Chain [1] done processing\n",
      "14:30:33 - cmdstanpy - INFO - Chain [1] start processing\n",
      "14:30:33 - cmdstanpy - INFO - Chain [1] done processing\n",
      "14:30:33 - cmdstanpy - ERROR - Chain [1] error: error during processing Stale NFS file handle\n",
      "Optimization terminated abnormally. Falling back to Newton.\n",
      "14:30:33 - cmdstanpy - INFO - Chain [1] start processing\n",
      "14:30:56 - cmdstanpy - INFO - Chain [1] done processing\n",
      "14:30:56 - cmdstanpy - INFO - Chain [1] start processing\n",
      "14:30:56 - cmdstanpy - INFO - Chain [1] done processing\n",
      "14:30:56 - cmdstanpy - ERROR - Chain [1] error: error during processing Stale NFS file handle\n",
      "Optimization terminated abnormally. Falling back to Newton.\n",
      "14:30:56 - cmdstanpy - INFO - Chain [1] start processing\n",
      "14:31:23 - cmdstanpy - INFO - Chain [1] done processing\n",
      "14:31:23 - cmdstanpy - INFO - Chain [1] start processing\n",
      "14:31:24 - cmdstanpy - INFO - Chain [1] done processing\n",
      "14:31:24 - cmdstanpy - ERROR - Chain [1] error: error during processing Stale NFS file handle\n",
      "Optimization terminated abnormally. Falling back to Newton.\n",
      "14:31:24 - cmdstanpy - INFO - Chain [1] start processing\n",
      "14:31:51 - cmdstanpy - INFO - Chain [1] done processing\n",
      "14:31:52 - cmdstanpy - INFO - Chain [1] start processing\n",
      "14:31:52 - cmdstanpy - INFO - Chain [1] done processing\n",
      "14:31:52 - cmdstanpy - ERROR - Chain [1] error: error during processing Stale NFS file handle\n",
      "Optimization terminated abnormally. Falling back to Newton.\n",
      "14:31:52 - cmdstanpy - INFO - Chain [1] start processing\n",
      "14:32:16 - cmdstanpy - INFO - Chain [1] done processing\n",
      "14:32:16 - cmdstanpy - INFO - Chain [1] start processing\n",
      "14:32:16 - cmdstanpy - INFO - Chain [1] done processing\n",
      "14:32:16 - cmdstanpy - ERROR - Chain [1] error: error during processing Stale NFS file handle\n",
      "Optimization terminated abnormally. Falling back to Newton.\n",
      "14:32:16 - cmdstanpy - INFO - Chain [1] start processing\n",
      "14:32:43 - cmdstanpy - INFO - Chain [1] done processing\n",
      "14:32:44 - cmdstanpy - INFO - Chain [1] start processing\n",
      "14:32:44 - cmdstanpy - INFO - Chain [1] done processing\n",
      "14:32:44 - cmdstanpy - ERROR - Chain [1] error: error during processing Stale NFS file handle\n",
      "Optimization terminated abnormally. Falling back to Newton.\n",
      "14:32:44 - cmdstanpy - INFO - Chain [1] start processing\n",
      "14:33:10 - cmdstanpy - INFO - Chain [1] done processing\n",
      "14:33:11 - cmdstanpy - INFO - Chain [1] start processing\n",
      "14:33:11 - cmdstanpy - INFO - Chain [1] done processing\n",
      "14:33:11 - cmdstanpy - ERROR - Chain [1] error: error during processing Stale NFS file handle\n",
      "Optimization terminated abnormally. Falling back to Newton.\n",
      "14:33:11 - cmdstanpy - INFO - Chain [1] start processing\n",
      "14:33:34 - cmdstanpy - INFO - Chain [1] done processing\n",
      "14:33:34 - cmdstanpy - INFO - Chain [1] start processing\n",
      "14:33:35 - cmdstanpy - INFO - Chain [1] done processing\n",
      "14:33:35 - cmdstanpy - ERROR - Chain [1] error: error during processing Stale NFS file handle\n",
      "Optimization terminated abnormally. Falling back to Newton.\n",
      "14:33:35 - cmdstanpy - INFO - Chain [1] start processing\n",
      "14:34:07 - cmdstanpy - INFO - Chain [1] done processing\n",
      "14:34:07 - cmdstanpy - INFO - Chain [1] start processing\n",
      "14:34:07 - cmdstanpy - INFO - Chain [1] done processing\n",
      "14:34:07 - cmdstanpy - ERROR - Chain [1] error: error during processing Stale NFS file handle\n",
      "Optimization terminated abnormally. Falling back to Newton.\n",
      "14:34:07 - cmdstanpy - INFO - Chain [1] start processing\n",
      "14:34:32 - cmdstanpy - INFO - Chain [1] done processing\n",
      "14:34:32 - cmdstanpy - INFO - Chain [1] start processing\n",
      "14:34:32 - cmdstanpy - INFO - Chain [1] done processing\n",
      "14:34:32 - cmdstanpy - ERROR - Chain [1] error: error during processing Stale NFS file handle\n",
      "Optimization terminated abnormally. Falling back to Newton.\n",
      "14:34:32 - cmdstanpy - INFO - Chain [1] start processing\n",
      "14:35:12 - cmdstanpy - INFO - Chain [1] done processing\n",
      "14:35:13 - cmdstanpy - INFO - Chain [1] start processing\n",
      "14:35:13 - cmdstanpy - INFO - Chain [1] done processing\n",
      "14:35:13 - cmdstanpy - ERROR - Chain [1] error: error during processing Stale NFS file handle\n",
      "Optimization terminated abnormally. Falling back to Newton.\n",
      "14:35:13 - cmdstanpy - INFO - Chain [1] start processing\n",
      "14:35:43 - cmdstanpy - INFO - Chain [1] done processing\n",
      "14:35:43 - cmdstanpy - INFO - Chain [1] start processing\n",
      "14:35:43 - cmdstanpy - INFO - Chain [1] done processing\n",
      "14:35:43 - cmdstanpy - ERROR - Chain [1] error: error during processing Stale NFS file handle\n",
      "Optimization terminated abnormally. Falling back to Newton.\n",
      "14:35:43 - cmdstanpy - INFO - Chain [1] start processing\n",
      "14:36:19 - cmdstanpy - INFO - Chain [1] done processing\n",
      "14:36:19 - cmdstanpy - INFO - Chain [1] start processing\n",
      "14:36:19 - cmdstanpy - INFO - Chain [1] done processing\n",
      "14:36:19 - cmdstanpy - ERROR - Chain [1] error: error during processing Stale NFS file handle\n",
      "Optimization terminated abnormally. Falling back to Newton.\n",
      "14:36:19 - cmdstanpy - INFO - Chain [1] start processing\n",
      "14:36:51 - cmdstanpy - INFO - Chain [1] done processing\n",
      "14:36:52 - cmdstanpy - INFO - Chain [1] start processing\n",
      "14:36:52 - cmdstanpy - INFO - Chain [1] done processing\n",
      "14:36:52 - cmdstanpy - ERROR - Chain [1] error: error during processing Stale NFS file handle\n",
      "Optimization terminated abnormally. Falling back to Newton.\n",
      "14:36:52 - cmdstanpy - INFO - Chain [1] start processing\n",
      "14:37:35 - cmdstanpy - INFO - Chain [1] done processing\n",
      "14:37:35 - cmdstanpy - INFO - Chain [1] start processing\n",
      "14:37:36 - cmdstanpy - INFO - Chain [1] done processing\n",
      "14:37:36 - cmdstanpy - INFO - Chain [1] start processing\n",
      "14:37:36 - cmdstanpy - INFO - Chain [1] done processing\n",
      "14:37:36 - cmdstanpy - ERROR - Chain [1] error: error during processing Stale NFS file handle\n",
      "Optimization terminated abnormally. Falling back to Newton.\n",
      "14:37:36 - cmdstanpy - INFO - Chain [1] start processing\n",
      "14:38:07 - cmdstanpy - INFO - Chain [1] done processing\n",
      "14:38:08 - cmdstanpy - INFO - Chain [1] start processing\n",
      "14:38:08 - cmdstanpy - INFO - Chain [1] done processing\n",
      "14:38:08 - cmdstanpy - ERROR - Chain [1] error: error during processing Stale NFS file handle\n",
      "Optimization terminated abnormally. Falling back to Newton.\n",
      "14:38:08 - cmdstanpy - INFO - Chain [1] start processing\n",
      "14:38:33 - cmdstanpy - INFO - Chain [1] done processing\n",
      "14:38:33 - cmdstanpy - INFO - Chain [1] start processing\n",
      "14:38:33 - cmdstanpy - INFO - Chain [1] done processing\n",
      "14:38:33 - cmdstanpy - ERROR - Chain [1] error: error during processing Stale NFS file handle\n",
      "Optimization terminated abnormally. Falling back to Newton.\n",
      "14:38:33 - cmdstanpy - INFO - Chain [1] start processing\n",
      "14:39:09 - cmdstanpy - INFO - Chain [1] done processing\n",
      "14:39:09 - cmdstanpy - INFO - Chain [1] start processing\n",
      "14:39:09 - cmdstanpy - INFO - Chain [1] done processing\n",
      "14:39:09 - cmdstanpy - ERROR - Chain [1] error: error during processing Stale NFS file handle\n",
      "Optimization terminated abnormally. Falling back to Newton.\n",
      "14:39:09 - cmdstanpy - INFO - Chain [1] start processing\n",
      "14:39:38 - cmdstanpy - INFO - Chain [1] done processing\n",
      "14:39:38 - cmdstanpy - INFO - Chain [1] start processing\n",
      "14:39:38 - cmdstanpy - INFO - Chain [1] done processing\n",
      "14:39:39 - cmdstanpy - INFO - Chain [1] start processing\n",
      "14:39:39 - cmdstanpy - INFO - Chain [1] done processing\n",
      "14:39:39 - cmdstanpy - ERROR - Chain [1] error: error during processing Stale NFS file handle\n",
      "Optimization terminated abnormally. Falling back to Newton.\n",
      "14:39:39 - cmdstanpy - INFO - Chain [1] start processing\n",
      "14:41:20 - cmdstanpy - INFO - Chain [1] done processing\n",
      "14:41:21 - cmdstanpy - INFO - Chain [1] start processing\n",
      "14:41:21 - cmdstanpy - INFO - Chain [1] done processing\n",
      "14:41:21 - cmdstanpy - ERROR - Chain [1] error: error during processing Stale NFS file handle\n",
      "Optimization terminated abnormally. Falling back to Newton.\n",
      "14:41:21 - cmdstanpy - INFO - Chain [1] start processing\n",
      "14:41:49 - cmdstanpy - INFO - Chain [1] done processing\n",
      "14:41:49 - cmdstanpy - INFO - Chain [1] start processing\n",
      "14:41:49 - cmdstanpy - INFO - Chain [1] done processing\n",
      "14:41:50 - cmdstanpy - INFO - Chain [1] start processing\n",
      "14:41:50 - cmdstanpy - INFO - Chain [1] done processing\n",
      "14:41:51 - cmdstanpy - INFO - Chain [1] start processing\n",
      "14:41:51 - cmdstanpy - INFO - Chain [1] done processing\n",
      "14:41:51 - cmdstanpy - INFO - Chain [1] start processing\n",
      "14:41:51 - cmdstanpy - INFO - Chain [1] done processing\n",
      "14:41:52 - cmdstanpy - INFO - Chain [1] start processing\n",
      "14:41:52 - cmdstanpy - INFO - Chain [1] done processing\n",
      "14:41:52 - cmdstanpy - ERROR - Chain [1] error: error during processing Stale NFS file handle\n",
      "Optimization terminated abnormally. Falling back to Newton.\n",
      "14:41:52 - cmdstanpy - INFO - Chain [1] start processing\n",
      "14:42:41 - cmdstanpy - INFO - Chain [1] done processing\n",
      "14:42:42 - cmdstanpy - INFO - Chain [1] start processing\n",
      "14:42:42 - cmdstanpy - INFO - Chain [1] done processing\n",
      "14:42:42 - cmdstanpy - ERROR - Chain [1] error: error during processing Stale NFS file handle\n",
      "Optimization terminated abnormally. Falling back to Newton.\n",
      "14:42:42 - cmdstanpy - INFO - Chain [1] start processing\n",
      "14:43:00 - cmdstanpy - INFO - Chain [1] done processing\n",
      "14:43:00 - cmdstanpy - INFO - Chain [1] start processing\n",
      "14:43:00 - cmdstanpy - INFO - Chain [1] done processing\n",
      "14:43:00 - cmdstanpy - ERROR - Chain [1] error: error during processing Stale NFS file handle\n",
      "Optimization terminated abnormally. Falling back to Newton.\n",
      "14:43:00 - cmdstanpy - INFO - Chain [1] start processing\n",
      "14:43:25 - cmdstanpy - INFO - Chain [1] done processing\n",
      "14:43:25 - cmdstanpy - INFO - Chain [1] start processing\n",
      "14:43:25 - cmdstanpy - INFO - Chain [1] done processing\n",
      "14:43:25 - cmdstanpy - ERROR - Chain [1] error: error during processing Stale NFS file handle\n",
      "Optimization terminated abnormally. Falling back to Newton.\n",
      "14:43:25 - cmdstanpy - INFO - Chain [1] start processing\n",
      "14:43:51 - cmdstanpy - INFO - Chain [1] done processing\n",
      "14:43:52 - cmdstanpy - INFO - Chain [1] start processing\n",
      "14:43:52 - cmdstanpy - INFO - Chain [1] done processing\n",
      "14:43:52 - cmdstanpy - ERROR - Chain [1] error: error during processing Stale NFS file handle\n",
      "Optimization terminated abnormally. Falling back to Newton.\n",
      "14:43:52 - cmdstanpy - INFO - Chain [1] start processing\n",
      "14:44:19 - cmdstanpy - INFO - Chain [1] done processing\n",
      "14:44:19 - cmdstanpy - INFO - Chain [1] start processing\n",
      "14:44:19 - cmdstanpy - INFO - Chain [1] done processing\n",
      "14:44:19 - cmdstanpy - ERROR - Chain [1] error: error during processing Stale NFS file handle\n",
      "Optimization terminated abnormally. Falling back to Newton.\n",
      "14:44:19 - cmdstanpy - INFO - Chain [1] start processing\n",
      "14:44:43 - cmdstanpy - INFO - Chain [1] done processing\n",
      "14:44:43 - cmdstanpy - INFO - Chain [1] start processing\n",
      "14:44:43 - cmdstanpy - INFO - Chain [1] done processing\n",
      "14:44:43 - cmdstanpy - ERROR - Chain [1] error: error during processing Stale NFS file handle\n",
      "Optimization terminated abnormally. Falling back to Newton.\n",
      "14:44:43 - cmdstanpy - INFO - Chain [1] start processing\n",
      "14:45:08 - cmdstanpy - INFO - Chain [1] done processing\n",
      "14:45:08 - cmdstanpy - INFO - Chain [1] start processing\n",
      "14:45:08 - cmdstanpy - INFO - Chain [1] done processing\n",
      "14:45:08 - cmdstanpy - ERROR - Chain [1] error: error during processing Stale NFS file handle\n",
      "Optimization terminated abnormally. Falling back to Newton.\n",
      "14:45:09 - cmdstanpy - INFO - Chain [1] start processing\n",
      "14:45:49 - cmdstanpy - INFO - Chain [1] done processing\n",
      "14:45:50 - cmdstanpy - INFO - Chain [1] start processing\n",
      "14:45:50 - cmdstanpy - INFO - Chain [1] done processing\n",
      "14:45:50 - cmdstanpy - ERROR - Chain [1] error: error during processing Stale NFS file handle\n",
      "Optimization terminated abnormally. Falling back to Newton.\n",
      "14:45:50 - cmdstanpy - INFO - Chain [1] start processing\n",
      "14:46:36 - cmdstanpy - INFO - Chain [1] done processing\n",
      "14:46:36 - cmdstanpy - INFO - Chain [1] start processing\n",
      "14:46:36 - cmdstanpy - INFO - Chain [1] done processing\n",
      "14:46:36 - cmdstanpy - ERROR - Chain [1] error: error during processing Stale NFS file handle\n",
      "Optimization terminated abnormally. Falling back to Newton.\n",
      "14:46:36 - cmdstanpy - INFO - Chain [1] start processing\n",
      "14:47:26 - cmdstanpy - INFO - Chain [1] done processing\n",
      "14:47:26 - cmdstanpy - INFO - Chain [1] start processing\n",
      "14:47:26 - cmdstanpy - INFO - Chain [1] done processing\n",
      "14:47:26 - cmdstanpy - ERROR - Chain [1] error: error during processing Stale NFS file handle\n",
      "Optimization terminated abnormally. Falling back to Newton.\n",
      "14:47:26 - cmdstanpy - INFO - Chain [1] start processing\n",
      "14:47:49 - cmdstanpy - INFO - Chain [1] done processing\n",
      "14:47:49 - cmdstanpy - INFO - Chain [1] start processing\n",
      "14:47:49 - cmdstanpy - INFO - Chain [1] done processing\n",
      "14:47:49 - cmdstanpy - ERROR - Chain [1] error: error during processing Stale NFS file handle\n",
      "Optimization terminated abnormally. Falling back to Newton.\n",
      "14:47:49 - cmdstanpy - INFO - Chain [1] start processing\n",
      "14:48:26 - cmdstanpy - INFO - Chain [1] done processing\n",
      "14:48:26 - cmdstanpy - INFO - Chain [1] start processing\n",
      "14:48:26 - cmdstanpy - INFO - Chain [1] done processing\n",
      "14:48:26 - cmdstanpy - INFO - Chain [1] start processing\n",
      "14:48:26 - cmdstanpy - INFO - Chain [1] done processing\n",
      "14:48:26 - cmdstanpy - ERROR - Chain [1] error: error during processing Stale NFS file handle\n",
      "Optimization terminated abnormally. Falling back to Newton.\n",
      "14:48:27 - cmdstanpy - INFO - Chain [1] start processing\n",
      "14:48:56 - cmdstanpy - INFO - Chain [1] done processing\n",
      "14:48:57 - cmdstanpy - INFO - Chain [1] start processing\n",
      "14:48:57 - cmdstanpy - INFO - Chain [1] done processing\n",
      "14:48:57 - cmdstanpy - ERROR - Chain [1] error: error during processing Stale NFS file handle\n",
      "Optimization terminated abnormally. Falling back to Newton.\n",
      "14:48:57 - cmdstanpy - INFO - Chain [1] start processing\n",
      "14:49:23 - cmdstanpy - INFO - Chain [1] done processing\n",
      "14:49:23 - cmdstanpy - INFO - Chain [1] start processing\n",
      "14:49:23 - cmdstanpy - INFO - Chain [1] done processing\n",
      "14:49:23 - cmdstanpy - ERROR - Chain [1] error: error during processing Stale NFS file handle\n",
      "Optimization terminated abnormally. Falling back to Newton.\n",
      "14:49:23 - cmdstanpy - INFO - Chain [1] start processing\n",
      "14:49:44 - cmdstanpy - INFO - Chain [1] done processing\n",
      "14:49:44 - cmdstanpy - INFO - Chain [1] start processing\n",
      "14:49:44 - cmdstanpy - INFO - Chain [1] done processing\n",
      "14:49:44 - cmdstanpy - ERROR - Chain [1] error: error during processing Stale NFS file handle\n",
      "Optimization terminated abnormally. Falling back to Newton.\n",
      "14:49:44 - cmdstanpy - INFO - Chain [1] start processing\n",
      "14:51:40 - cmdstanpy - INFO - Chain [1] done processing\n",
      "14:51:41 - cmdstanpy - INFO - Chain [1] start processing\n",
      "14:51:41 - cmdstanpy - INFO - Chain [1] done processing\n",
      "14:51:41 - cmdstanpy - ERROR - Chain [1] error: error during processing Stale NFS file handle\n",
      "Optimization terminated abnormally. Falling back to Newton.\n",
      "14:51:41 - cmdstanpy - INFO - Chain [1] start processing\n",
      "14:52:08 - cmdstanpy - INFO - Chain [1] done processing\n",
      "14:52:08 - cmdstanpy - INFO - Chain [1] start processing\n",
      "14:52:08 - cmdstanpy - INFO - Chain [1] done processing\n",
      "14:52:08 - cmdstanpy - ERROR - Chain [1] error: error during processing Stale NFS file handle\n",
      "Optimization terminated abnormally. Falling back to Newton.\n",
      "14:52:08 - cmdstanpy - INFO - Chain [1] start processing\n",
      "14:53:09 - cmdstanpy - INFO - Chain [1] done processing\n",
      "14:53:09 - cmdstanpy - INFO - Chain [1] start processing\n",
      "14:53:09 - cmdstanpy - INFO - Chain [1] done processing\n",
      "14:53:09 - cmdstanpy - ERROR - Chain [1] error: error during processing Stale NFS file handle\n",
      "Optimization terminated abnormally. Falling back to Newton.\n",
      "14:53:09 - cmdstanpy - INFO - Chain [1] start processing\n",
      "14:53:39 - cmdstanpy - INFO - Chain [1] done processing\n",
      "14:53:39 - cmdstanpy - INFO - Chain [1] start processing\n",
      "14:53:39 - cmdstanpy - INFO - Chain [1] done processing\n",
      "14:53:39 - cmdstanpy - ERROR - Chain [1] error: error during processing Stale NFS file handle\n",
      "Optimization terminated abnormally. Falling back to Newton.\n",
      "14:53:39 - cmdstanpy - INFO - Chain [1] start processing\n",
      "14:54:05 - cmdstanpy - INFO - Chain [1] done processing\n",
      "14:54:05 - cmdstanpy - INFO - Chain [1] start processing\n",
      "14:54:05 - cmdstanpy - INFO - Chain [1] done processing\n",
      "14:54:05 - cmdstanpy - ERROR - Chain [1] error: error during processing Stale NFS file handle\n",
      "Optimization terminated abnormally. Falling back to Newton.\n",
      "14:54:05 - cmdstanpy - INFO - Chain [1] start processing\n",
      "14:54:50 - cmdstanpy - INFO - Chain [1] done processing\n",
      "14:54:50 - cmdstanpy - INFO - Chain [1] start processing\n",
      "14:54:50 - cmdstanpy - INFO - Chain [1] done processing\n",
      "14:54:50 - cmdstanpy - ERROR - Chain [1] error: error during processing Stale NFS file handle\n",
      "Optimization terminated abnormally. Falling back to Newton.\n",
      "14:54:50 - cmdstanpy - INFO - Chain [1] start processing\n",
      "14:55:16 - cmdstanpy - INFO - Chain [1] done processing\n",
      "14:55:16 - cmdstanpy - INFO - Chain [1] start processing\n",
      "14:55:16 - cmdstanpy - INFO - Chain [1] done processing\n",
      "14:55:16 - cmdstanpy - ERROR - Chain [1] error: error during processing Stale NFS file handle\n",
      "Optimization terminated abnormally. Falling back to Newton.\n",
      "14:55:16 - cmdstanpy - INFO - Chain [1] start processing\n",
      "14:55:47 - cmdstanpy - INFO - Chain [1] done processing\n",
      "14:55:47 - cmdstanpy - INFO - Chain [1] start processing\n",
      "14:55:47 - cmdstanpy - INFO - Chain [1] done processing\n",
      "14:55:47 - cmdstanpy - ERROR - Chain [1] error: error during processing Stale NFS file handle\n",
      "Optimization terminated abnormally. Falling back to Newton.\n",
      "14:55:47 - cmdstanpy - INFO - Chain [1] start processing\n",
      "14:56:11 - cmdstanpy - INFO - Chain [1] done processing\n",
      "14:56:11 - cmdstanpy - INFO - Chain [1] start processing\n",
      "14:56:11 - cmdstanpy - INFO - Chain [1] done processing\n",
      "14:56:11 - cmdstanpy - ERROR - Chain [1] error: error during processing Stale NFS file handle\n",
      "Optimization terminated abnormally. Falling back to Newton.\n",
      "14:56:11 - cmdstanpy - INFO - Chain [1] start processing\n",
      "14:56:34 - cmdstanpy - INFO - Chain [1] done processing\n",
      "14:56:35 - cmdstanpy - INFO - Chain [1] start processing\n",
      "14:56:35 - cmdstanpy - INFO - Chain [1] done processing\n",
      "14:56:35 - cmdstanpy - ERROR - Chain [1] error: error during processing Stale NFS file handle\n",
      "Optimization terminated abnormally. Falling back to Newton.\n",
      "14:56:35 - cmdstanpy - INFO - Chain [1] start processing\n",
      "14:57:07 - cmdstanpy - INFO - Chain [1] done processing\n",
      "14:57:07 - cmdstanpy - INFO - Chain [1] start processing\n",
      "14:57:07 - cmdstanpy - INFO - Chain [1] done processing\n",
      "14:57:07 - cmdstanpy - ERROR - Chain [1] error: error during processing Stale NFS file handle\n",
      "Optimization terminated abnormally. Falling back to Newton.\n",
      "14:57:07 - cmdstanpy - INFO - Chain [1] start processing\n",
      "14:57:35 - cmdstanpy - INFO - Chain [1] done processing\n",
      "14:57:36 - cmdstanpy - INFO - Chain [1] start processing\n",
      "14:57:36 - cmdstanpy - INFO - Chain [1] done processing\n",
      "14:57:36 - cmdstanpy - ERROR - Chain [1] error: error during processing Stale NFS file handle\n",
      "Optimization terminated abnormally. Falling back to Newton.\n",
      "14:57:36 - cmdstanpy - INFO - Chain [1] start processing\n",
      "14:58:04 - cmdstanpy - INFO - Chain [1] done processing\n",
      "14:58:04 - cmdstanpy - INFO - Chain [1] start processing\n",
      "14:58:05 - cmdstanpy - INFO - Chain [1] done processing\n",
      "14:58:05 - cmdstanpy - INFO - Chain [1] start processing\n",
      "14:58:05 - cmdstanpy - INFO - Chain [1] done processing\n",
      "14:58:05 - cmdstanpy - ERROR - Chain [1] error: error during processing Stale NFS file handle\n",
      "Optimization terminated abnormally. Falling back to Newton.\n",
      "14:58:05 - cmdstanpy - INFO - Chain [1] start processing\n",
      "14:58:33 - cmdstanpy - INFO - Chain [1] done processing\n",
      "14:58:33 - cmdstanpy - INFO - Chain [1] start processing\n",
      "14:58:33 - cmdstanpy - INFO - Chain [1] done processing\n",
      "14:58:34 - cmdstanpy - INFO - Chain [1] start processing\n",
      "14:58:34 - cmdstanpy - INFO - Chain [1] done processing\n",
      "14:58:34 - cmdstanpy - INFO - Chain [1] start processing\n",
      "14:58:34 - cmdstanpy - INFO - Chain [1] done processing\n",
      "14:58:34 - cmdstanpy - ERROR - Chain [1] error: error during processing Stale NFS file handle\n",
      "Optimization terminated abnormally. Falling back to Newton.\n",
      "14:58:34 - cmdstanpy - INFO - Chain [1] start processing\n",
      "14:59:06 - cmdstanpy - INFO - Chain [1] done processing\n",
      "14:59:06 - cmdstanpy - INFO - Chain [1] start processing\n",
      "14:59:06 - cmdstanpy - INFO - Chain [1] done processing\n",
      "14:59:06 - cmdstanpy - ERROR - Chain [1] error: error during processing Stale NFS file handle\n",
      "Optimization terminated abnormally. Falling back to Newton.\n",
      "14:59:06 - cmdstanpy - INFO - Chain [1] start processing\n",
      "14:59:41 - cmdstanpy - INFO - Chain [1] done processing\n",
      "14:59:41 - cmdstanpy - INFO - Chain [1] start processing\n",
      "14:59:41 - cmdstanpy - INFO - Chain [1] done processing\n",
      "14:59:41 - cmdstanpy - ERROR - Chain [1] error: error during processing Stale NFS file handle\n",
      "Optimization terminated abnormally. Falling back to Newton.\n",
      "14:59:41 - cmdstanpy - INFO - Chain [1] start processing\n",
      "15:00:08 - cmdstanpy - INFO - Chain [1] done processing\n",
      "15:00:08 - cmdstanpy - INFO - Chain [1] start processing\n",
      "15:00:08 - cmdstanpy - INFO - Chain [1] done processing\n",
      "15:00:08 - cmdstanpy - ERROR - Chain [1] error: error during processing Stale NFS file handle\n",
      "Optimization terminated abnormally. Falling back to Newton.\n",
      "15:00:08 - cmdstanpy - INFO - Chain [1] start processing\n",
      "15:00:47 - cmdstanpy - INFO - Chain [1] done processing\n",
      "15:00:47 - cmdstanpy - INFO - Chain [1] start processing\n",
      "15:00:47 - cmdstanpy - INFO - Chain [1] done processing\n",
      "15:00:47 - cmdstanpy - ERROR - Chain [1] error: error during processing Stale NFS file handle\n",
      "Optimization terminated abnormally. Falling back to Newton.\n",
      "15:00:47 - cmdstanpy - INFO - Chain [1] start processing\n",
      "15:01:21 - cmdstanpy - INFO - Chain [1] done processing\n",
      "15:01:21 - cmdstanpy - INFO - Chain [1] start processing\n",
      "15:01:21 - cmdstanpy - INFO - Chain [1] done processing\n",
      "15:01:21 - cmdstanpy - INFO - Chain [1] start processing\n",
      "15:01:21 - cmdstanpy - INFO - Chain [1] done processing\n",
      "15:01:21 - cmdstanpy - ERROR - Chain [1] error: error during processing Stale NFS file handle\n",
      "Optimization terminated abnormally. Falling back to Newton.\n",
      "15:01:21 - cmdstanpy - INFO - Chain [1] start processing\n",
      "15:01:46 - cmdstanpy - INFO - Chain [1] done processing\n",
      "15:01:46 - cmdstanpy - INFO - Chain [1] start processing\n",
      "15:01:46 - cmdstanpy - INFO - Chain [1] done processing\n",
      "15:01:46 - cmdstanpy - ERROR - Chain [1] error: error during processing Stale NFS file handle\n",
      "Optimization terminated abnormally. Falling back to Newton.\n",
      "15:01:46 - cmdstanpy - INFO - Chain [1] start processing\n",
      "15:02:20 - cmdstanpy - INFO - Chain [1] done processing\n",
      "15:02:20 - cmdstanpy - INFO - Chain [1] start processing\n",
      "15:02:20 - cmdstanpy - INFO - Chain [1] done processing\n",
      "15:02:20 - cmdstanpy - ERROR - Chain [1] error: error during processing Stale NFS file handle\n",
      "Optimization terminated abnormally. Falling back to Newton.\n",
      "15:02:20 - cmdstanpy - INFO - Chain [1] start processing\n",
      "15:02:53 - cmdstanpy - INFO - Chain [1] done processing\n",
      "15:02:53 - cmdstanpy - INFO - Chain [1] start processing\n",
      "15:02:53 - cmdstanpy - INFO - Chain [1] done processing\n",
      "15:02:53 - cmdstanpy - ERROR - Chain [1] error: error during processing Stale NFS file handle\n",
      "Optimization terminated abnormally. Falling back to Newton.\n",
      "15:02:53 - cmdstanpy - INFO - Chain [1] start processing\n",
      "15:03:29 - cmdstanpy - INFO - Chain [1] done processing\n",
      "15:03:29 - cmdstanpy - INFO - Chain [1] start processing\n",
      "15:03:29 - cmdstanpy - INFO - Chain [1] done processing\n",
      "15:03:30 - cmdstanpy - INFO - Chain [1] start processing\n",
      "15:03:30 - cmdstanpy - INFO - Chain [1] done processing\n",
      "15:03:30 - cmdstanpy - ERROR - Chain [1] error: error during processing Stale NFS file handle\n",
      "Optimization terminated abnormally. Falling back to Newton.\n",
      "15:03:30 - cmdstanpy - INFO - Chain [1] start processing\n",
      "15:04:04 - cmdstanpy - INFO - Chain [1] done processing\n",
      "15:04:04 - cmdstanpy - INFO - Chain [1] start processing\n",
      "15:04:04 - cmdstanpy - INFO - Chain [1] done processing\n",
      "15:04:04 - cmdstanpy - ERROR - Chain [1] error: error during processing Stale NFS file handle\n",
      "Optimization terminated abnormally. Falling back to Newton.\n",
      "15:04:05 - cmdstanpy - INFO - Chain [1] start processing\n",
      "15:04:31 - cmdstanpy - INFO - Chain [1] done processing\n",
      "15:04:31 - cmdstanpy - INFO - Chain [1] start processing\n",
      "15:04:31 - cmdstanpy - INFO - Chain [1] done processing\n",
      "15:04:32 - cmdstanpy - INFO - Chain [1] start processing\n",
      "15:04:32 - cmdstanpy - INFO - Chain [1] done processing\n",
      "15:04:32 - cmdstanpy - ERROR - Chain [1] error: error during processing Stale NFS file handle\n",
      "Optimization terminated abnormally. Falling back to Newton.\n",
      "15:04:32 - cmdstanpy - INFO - Chain [1] start processing\n",
      "15:05:01 - cmdstanpy - INFO - Chain [1] done processing\n",
      "15:05:01 - cmdstanpy - INFO - Chain [1] start processing\n",
      "15:05:01 - cmdstanpy - INFO - Chain [1] done processing\n",
      "15:05:01 - cmdstanpy - ERROR - Chain [1] error: error during processing Stale NFS file handle\n",
      "Optimization terminated abnormally. Falling back to Newton.\n",
      "15:05:01 - cmdstanpy - INFO - Chain [1] start processing\n",
      "15:05:19 - cmdstanpy - INFO - Chain [1] done processing\n",
      "15:05:19 - cmdstanpy - INFO - Chain [1] start processing\n",
      "15:05:19 - cmdstanpy - INFO - Chain [1] done processing\n",
      "15:05:19 - cmdstanpy - ERROR - Chain [1] error: error during processing Stale NFS file handle\n",
      "Optimization terminated abnormally. Falling back to Newton.\n",
      "15:05:19 - cmdstanpy - INFO - Chain [1] start processing\n",
      "15:05:55 - cmdstanpy - INFO - Chain [1] done processing\n",
      "15:05:55 - cmdstanpy - INFO - Chain [1] start processing\n",
      "15:05:55 - cmdstanpy - INFO - Chain [1] done processing\n",
      "15:05:55 - cmdstanpy - ERROR - Chain [1] error: error during processing Stale NFS file handle\n",
      "Optimization terminated abnormally. Falling back to Newton.\n",
      "15:05:55 - cmdstanpy - INFO - Chain [1] start processing\n",
      "15:06:25 - cmdstanpy - INFO - Chain [1] done processing\n",
      "15:06:25 - cmdstanpy - INFO - Chain [1] start processing\n",
      "15:06:25 - cmdstanpy - INFO - Chain [1] done processing\n",
      "15:06:25 - cmdstanpy - ERROR - Chain [1] error: error during processing Stale NFS file handle\n",
      "Optimization terminated abnormally. Falling back to Newton.\n",
      "15:06:25 - cmdstanpy - INFO - Chain [1] start processing\n",
      "15:07:10 - cmdstanpy - INFO - Chain [1] done processing\n",
      "15:07:10 - cmdstanpy - INFO - Chain [1] start processing\n",
      "15:07:10 - cmdstanpy - INFO - Chain [1] done processing\n",
      "15:07:10 - cmdstanpy - ERROR - Chain [1] error: error during processing Stale NFS file handle\n",
      "Optimization terminated abnormally. Falling back to Newton.\n",
      "15:07:10 - cmdstanpy - INFO - Chain [1] start processing\n",
      "15:07:35 - cmdstanpy - INFO - Chain [1] done processing\n",
      "15:07:35 - cmdstanpy - INFO - Chain [1] start processing\n",
      "15:07:35 - cmdstanpy - INFO - Chain [1] done processing\n",
      "15:07:35 - cmdstanpy - ERROR - Chain [1] error: error during processing Stale NFS file handle\n",
      "Optimization terminated abnormally. Falling back to Newton.\n",
      "15:07:35 - cmdstanpy - INFO - Chain [1] start processing\n",
      "15:08:21 - cmdstanpy - INFO - Chain [1] done processing\n",
      "15:08:21 - cmdstanpy - INFO - Chain [1] start processing\n",
      "15:08:21 - cmdstanpy - INFO - Chain [1] done processing\n",
      "15:08:21 - cmdstanpy - ERROR - Chain [1] error: error during processing Stale NFS file handle\n",
      "Optimization terminated abnormally. Falling back to Newton.\n",
      "15:08:21 - cmdstanpy - INFO - Chain [1] start processing\n",
      "15:09:01 - cmdstanpy - INFO - Chain [1] done processing\n",
      "15:09:02 - cmdstanpy - INFO - Chain [1] start processing\n",
      "15:09:02 - cmdstanpy - INFO - Chain [1] done processing\n",
      "15:09:02 - cmdstanpy - ERROR - Chain [1] error: error during processing Stale NFS file handle\n",
      "Optimization terminated abnormally. Falling back to Newton.\n",
      "15:09:02 - cmdstanpy - INFO - Chain [1] start processing\n",
      "15:09:25 - cmdstanpy - INFO - Chain [1] done processing\n",
      "15:09:25 - cmdstanpy - INFO - Chain [1] start processing\n",
      "15:09:25 - cmdstanpy - INFO - Chain [1] done processing\n",
      "15:09:25 - cmdstanpy - ERROR - Chain [1] error: error during processing Stale NFS file handle\n",
      "Optimization terminated abnormally. Falling back to Newton.\n",
      "15:09:25 - cmdstanpy - INFO - Chain [1] start processing\n",
      "15:09:54 - cmdstanpy - INFO - Chain [1] done processing\n",
      "15:09:54 - cmdstanpy - INFO - Chain [1] start processing\n",
      "15:09:54 - cmdstanpy - INFO - Chain [1] done processing\n",
      "15:09:54 - cmdstanpy - ERROR - Chain [1] error: error during processing Stale NFS file handle\n",
      "Optimization terminated abnormally. Falling back to Newton.\n",
      "15:09:54 - cmdstanpy - INFO - Chain [1] start processing\n",
      "15:10:38 - cmdstanpy - INFO - Chain [1] done processing\n",
      "15:10:38 - cmdstanpy - INFO - Chain [1] start processing\n",
      "15:10:38 - cmdstanpy - INFO - Chain [1] done processing\n",
      "15:10:38 - cmdstanpy - ERROR - Chain [1] error: error during processing Stale NFS file handle\n",
      "Optimization terminated abnormally. Falling back to Newton.\n",
      "15:10:38 - cmdstanpy - INFO - Chain [1] start processing\n",
      "15:11:25 - cmdstanpy - INFO - Chain [1] done processing\n",
      "15:11:25 - cmdstanpy - INFO - Chain [1] start processing\n",
      "15:11:25 - cmdstanpy - INFO - Chain [1] done processing\n",
      "15:11:25 - cmdstanpy - ERROR - Chain [1] error: error during processing Stale NFS file handle\n",
      "Optimization terminated abnormally. Falling back to Newton.\n",
      "15:11:25 - cmdstanpy - INFO - Chain [1] start processing\n",
      "15:12:01 - cmdstanpy - INFO - Chain [1] done processing\n",
      "15:12:01 - cmdstanpy - INFO - Chain [1] start processing\n",
      "15:12:01 - cmdstanpy - INFO - Chain [1] done processing\n",
      "15:12:01 - cmdstanpy - ERROR - Chain [1] error: error during processing Stale NFS file handle\n",
      "Optimization terminated abnormally. Falling back to Newton.\n",
      "15:12:01 - cmdstanpy - INFO - Chain [1] start processing\n",
      "15:12:41 - cmdstanpy - INFO - Chain [1] done processing\n",
      "15:12:41 - cmdstanpy - INFO - Chain [1] start processing\n",
      "15:12:41 - cmdstanpy - INFO - Chain [1] done processing\n",
      "15:12:41 - cmdstanpy - INFO - Chain [1] start processing\n",
      "15:12:42 - cmdstanpy - INFO - Chain [1] done processing\n",
      "15:12:42 - cmdstanpy - ERROR - Chain [1] error: error during processing Stale NFS file handle\n",
      "Optimization terminated abnormally. Falling back to Newton.\n",
      "15:12:42 - cmdstanpy - INFO - Chain [1] start processing\n",
      "15:13:11 - cmdstanpy - INFO - Chain [1] done processing\n",
      "15:13:12 - cmdstanpy - INFO - Chain [1] start processing\n",
      "15:13:12 - cmdstanpy - INFO - Chain [1] done processing\n",
      "15:13:12 - cmdstanpy - ERROR - Chain [1] error: error during processing Stale NFS file handle\n",
      "Optimization terminated abnormally. Falling back to Newton.\n",
      "15:13:12 - cmdstanpy - INFO - Chain [1] start processing\n",
      "15:13:39 - cmdstanpy - INFO - Chain [1] done processing\n",
      "15:13:39 - cmdstanpy - INFO - Chain [1] start processing\n",
      "15:13:39 - cmdstanpy - INFO - Chain [1] done processing\n",
      "15:13:39 - cmdstanpy - ERROR - Chain [1] error: error during processing Stale NFS file handle\n",
      "Optimization terminated abnormally. Falling back to Newton.\n",
      "15:13:39 - cmdstanpy - INFO - Chain [1] start processing\n",
      "15:14:04 - cmdstanpy - INFO - Chain [1] done processing\n",
      "15:14:04 - cmdstanpy - INFO - Chain [1] start processing\n",
      "15:14:04 - cmdstanpy - INFO - Chain [1] done processing\n",
      "15:14:04 - cmdstanpy - ERROR - Chain [1] error: error during processing Stale NFS file handle\n",
      "Optimization terminated abnormally. Falling back to Newton.\n",
      "15:14:04 - cmdstanpy - INFO - Chain [1] start processing\n",
      "15:15:34 - cmdstanpy - INFO - Chain [1] done processing\n",
      "15:15:34 - cmdstanpy - INFO - Chain [1] start processing\n",
      "15:15:34 - cmdstanpy - INFO - Chain [1] done processing\n",
      "15:15:34 - cmdstanpy - ERROR - Chain [1] error: error during processing Stale NFS file handle\n",
      "Optimization terminated abnormally. Falling back to Newton.\n",
      "15:15:34 - cmdstanpy - INFO - Chain [1] start processing\n",
      "15:16:01 - cmdstanpy - INFO - Chain [1] done processing\n",
      "15:16:01 - cmdstanpy - INFO - Chain [1] start processing\n",
      "15:16:01 - cmdstanpy - INFO - Chain [1] done processing\n",
      "15:16:01 - cmdstanpy - ERROR - Chain [1] error: error during processing Stale NFS file handle\n",
      "Optimization terminated abnormally. Falling back to Newton.\n",
      "15:16:01 - cmdstanpy - INFO - Chain [1] start processing\n",
      "15:16:40 - cmdstanpy - INFO - Chain [1] done processing\n",
      "15:16:40 - cmdstanpy - INFO - Chain [1] start processing\n",
      "15:16:40 - cmdstanpy - INFO - Chain [1] done processing\n",
      "15:16:40 - cmdstanpy - ERROR - Chain [1] error: error during processing Stale NFS file handle\n",
      "Optimization terminated abnormally. Falling back to Newton.\n",
      "15:16:40 - cmdstanpy - INFO - Chain [1] start processing\n",
      "15:17:11 - cmdstanpy - INFO - Chain [1] done processing\n",
      "15:17:11 - cmdstanpy - INFO - Chain [1] start processing\n",
      "15:17:11 - cmdstanpy - INFO - Chain [1] done processing\n",
      "15:17:11 - cmdstanpy - ERROR - Chain [1] error: error during processing Stale NFS file handle\n",
      "Optimization terminated abnormally. Falling back to Newton.\n",
      "15:17:11 - cmdstanpy - INFO - Chain [1] start processing\n",
      "15:18:01 - cmdstanpy - INFO - Chain [1] done processing\n",
      "15:18:02 - cmdstanpy - INFO - Chain [1] start processing\n",
      "15:18:02 - cmdstanpy - INFO - Chain [1] done processing\n",
      "15:18:02 - cmdstanpy - INFO - Chain [1] start processing\n",
      "15:18:02 - cmdstanpy - INFO - Chain [1] done processing\n",
      "15:18:02 - cmdstanpy - ERROR - Chain [1] error: error during processing Stale NFS file handle\n",
      "Optimization terminated abnormally. Falling back to Newton.\n",
      "15:18:02 - cmdstanpy - INFO - Chain [1] start processing\n",
      "15:19:21 - cmdstanpy - INFO - Chain [1] done processing\n",
      "15:19:22 - cmdstanpy - INFO - Chain [1] start processing\n",
      "15:19:22 - cmdstanpy - INFO - Chain [1] done processing\n",
      "15:19:22 - cmdstanpy - ERROR - Chain [1] error: error during processing Stale NFS file handle\n",
      "Optimization terminated abnormally. Falling back to Newton.\n",
      "15:19:22 - cmdstanpy - INFO - Chain [1] start processing\n",
      "15:19:43 - cmdstanpy - INFO - Chain [1] done processing\n",
      "15:19:43 - cmdstanpy - INFO - Chain [1] start processing\n",
      "15:19:43 - cmdstanpy - INFO - Chain [1] done processing\n",
      "15:19:43 - cmdstanpy - ERROR - Chain [1] error: error during processing Stale NFS file handle\n",
      "Optimization terminated abnormally. Falling back to Newton.\n",
      "15:19:43 - cmdstanpy - INFO - Chain [1] start processing\n",
      "15:20:15 - cmdstanpy - INFO - Chain [1] done processing\n",
      "15:20:15 - cmdstanpy - INFO - Chain [1] start processing\n",
      "15:20:16 - cmdstanpy - INFO - Chain [1] done processing\n",
      "15:20:16 - cmdstanpy - ERROR - Chain [1] error: error during processing Stale NFS file handle\n",
      "Optimization terminated abnormally. Falling back to Newton.\n",
      "15:20:16 - cmdstanpy - INFO - Chain [1] start processing\n",
      "15:20:52 - cmdstanpy - INFO - Chain [1] done processing\n",
      "15:20:52 - cmdstanpy - INFO - Chain [1] start processing\n",
      "15:20:52 - cmdstanpy - INFO - Chain [1] done processing\n",
      "15:20:52 - cmdstanpy - ERROR - Chain [1] error: error during processing Stale NFS file handle\n",
      "Optimization terminated abnormally. Falling back to Newton.\n",
      "15:20:52 - cmdstanpy - INFO - Chain [1] start processing\n",
      "15:21:14 - cmdstanpy - INFO - Chain [1] done processing\n",
      "15:21:14 - cmdstanpy - INFO - Chain [1] start processing\n",
      "15:21:14 - cmdstanpy - INFO - Chain [1] done processing\n",
      "15:21:14 - cmdstanpy - ERROR - Chain [1] error: error during processing Stale NFS file handle\n",
      "Optimization terminated abnormally. Falling back to Newton.\n",
      "15:21:14 - cmdstanpy - INFO - Chain [1] start processing\n",
      "15:21:36 - cmdstanpy - INFO - Chain [1] done processing\n",
      "15:21:36 - cmdstanpy - INFO - Chain [1] start processing\n",
      "15:21:36 - cmdstanpy - INFO - Chain [1] done processing\n",
      "15:21:36 - cmdstanpy - ERROR - Chain [1] error: error during processing Stale NFS file handle\n",
      "Optimization terminated abnormally. Falling back to Newton.\n",
      "15:21:36 - cmdstanpy - INFO - Chain [1] start processing\n",
      "15:22:14 - cmdstanpy - INFO - Chain [1] done processing\n",
      "15:22:14 - cmdstanpy - INFO - Chain [1] start processing\n",
      "15:22:14 - cmdstanpy - INFO - Chain [1] done processing\n",
      "15:22:14 - cmdstanpy - ERROR - Chain [1] error: error during processing Stale NFS file handle\n",
      "Optimization terminated abnormally. Falling back to Newton.\n",
      "15:22:14 - cmdstanpy - INFO - Chain [1] start processing\n",
      "15:22:39 - cmdstanpy - INFO - Chain [1] done processing\n",
      "15:22:39 - cmdstanpy - INFO - Chain [1] start processing\n",
      "15:22:40 - cmdstanpy - INFO - Chain [1] done processing\n",
      "15:22:40 - cmdstanpy - ERROR - Chain [1] error: error during processing Stale NFS file handle\n",
      "Optimization terminated abnormally. Falling back to Newton.\n",
      "15:22:40 - cmdstanpy - INFO - Chain [1] start processing\n",
      "15:23:20 - cmdstanpy - INFO - Chain [1] done processing\n",
      "15:23:21 - cmdstanpy - INFO - Chain [1] start processing\n",
      "15:23:21 - cmdstanpy - INFO - Chain [1] done processing\n",
      "15:23:21 - cmdstanpy - ERROR - Chain [1] error: error during processing Stale NFS file handle\n",
      "Optimization terminated abnormally. Falling back to Newton.\n",
      "15:23:21 - cmdstanpy - INFO - Chain [1] start processing\n",
      "15:23:50 - cmdstanpy - INFO - Chain [1] done processing\n",
      "15:23:50 - cmdstanpy - INFO - Chain [1] start processing\n",
      "15:23:50 - cmdstanpy - INFO - Chain [1] done processing\n",
      "15:23:50 - cmdstanpy - ERROR - Chain [1] error: error during processing Stale NFS file handle\n",
      "Optimization terminated abnormally. Falling back to Newton.\n",
      "15:23:50 - cmdstanpy - INFO - Chain [1] start processing\n",
      "15:24:17 - cmdstanpy - INFO - Chain [1] done processing\n",
      "15:24:17 - cmdstanpy - INFO - Chain [1] start processing\n",
      "15:24:17 - cmdstanpy - INFO - Chain [1] done processing\n",
      "15:24:17 - cmdstanpy - ERROR - Chain [1] error: error during processing Stale NFS file handle\n",
      "Optimization terminated abnormally. Falling back to Newton.\n",
      "15:24:17 - cmdstanpy - INFO - Chain [1] start processing\n",
      "15:24:46 - cmdstanpy - INFO - Chain [1] done processing\n",
      "15:24:46 - cmdstanpy - INFO - Chain [1] start processing\n",
      "15:24:46 - cmdstanpy - INFO - Chain [1] done processing\n",
      "15:24:46 - cmdstanpy - ERROR - Chain [1] error: error during processing Stale NFS file handle\n",
      "Optimization terminated abnormally. Falling back to Newton.\n",
      "15:24:46 - cmdstanpy - INFO - Chain [1] start processing\n",
      "15:25:30 - cmdstanpy - INFO - Chain [1] done processing\n",
      "15:25:31 - cmdstanpy - INFO - Chain [1] start processing\n",
      "15:25:31 - cmdstanpy - INFO - Chain [1] done processing\n",
      "15:25:31 - cmdstanpy - ERROR - Chain [1] error: error during processing Stale NFS file handle\n",
      "Optimization terminated abnormally. Falling back to Newton.\n",
      "15:25:31 - cmdstanpy - INFO - Chain [1] start processing\n",
      "15:26:03 - cmdstanpy - INFO - Chain [1] done processing\n",
      "15:26:03 - cmdstanpy - INFO - Chain [1] start processing\n",
      "15:26:03 - cmdstanpy - INFO - Chain [1] done processing\n",
      "15:26:03 - cmdstanpy - ERROR - Chain [1] error: error during processing Stale NFS file handle\n",
      "Optimization terminated abnormally. Falling back to Newton.\n",
      "15:26:03 - cmdstanpy - INFO - Chain [1] start processing\n",
      "15:26:45 - cmdstanpy - INFO - Chain [1] done processing\n",
      "15:26:45 - cmdstanpy - INFO - Chain [1] start processing\n",
      "15:26:45 - cmdstanpy - INFO - Chain [1] done processing\n",
      "15:26:45 - cmdstanpy - ERROR - Chain [1] error: error during processing Stale NFS file handle\n",
      "Optimization terminated abnormally. Falling back to Newton.\n",
      "15:26:45 - cmdstanpy - INFO - Chain [1] start processing\n",
      "15:27:18 - cmdstanpy - INFO - Chain [1] done processing\n",
      "15:27:18 - cmdstanpy - INFO - Chain [1] start processing\n",
      "15:27:18 - cmdstanpy - INFO - Chain [1] done processing\n",
      "15:27:18 - cmdstanpy - ERROR - Chain [1] error: error during processing Stale NFS file handle\n",
      "Optimization terminated abnormally. Falling back to Newton.\n",
      "15:27:18 - cmdstanpy - INFO - Chain [1] start processing\n",
      "15:27:43 - cmdstanpy - INFO - Chain [1] done processing\n",
      "15:27:44 - cmdstanpy - INFO - Chain [1] start processing\n",
      "15:27:44 - cmdstanpy - INFO - Chain [1] done processing\n",
      "15:27:44 - cmdstanpy - ERROR - Chain [1] error: error during processing Stale NFS file handle\n",
      "Optimization terminated abnormally. Falling back to Newton.\n",
      "15:27:44 - cmdstanpy - INFO - Chain [1] start processing\n",
      "15:28:10 - cmdstanpy - INFO - Chain [1] done processing\n",
      "15:28:11 - cmdstanpy - INFO - Chain [1] start processing\n",
      "15:28:11 - cmdstanpy - INFO - Chain [1] done processing\n",
      "15:28:11 - cmdstanpy - ERROR - Chain [1] error: error during processing Stale NFS file handle\n",
      "Optimization terminated abnormally. Falling back to Newton.\n",
      "15:28:11 - cmdstanpy - INFO - Chain [1] start processing\n",
      "15:28:42 - cmdstanpy - INFO - Chain [1] done processing\n",
      "15:28:43 - cmdstanpy - INFO - Chain [1] start processing\n",
      "15:28:43 - cmdstanpy - INFO - Chain [1] done processing\n",
      "15:28:43 - cmdstanpy - ERROR - Chain [1] error: error during processing Stale NFS file handle\n",
      "Optimization terminated abnormally. Falling back to Newton.\n",
      "15:28:43 - cmdstanpy - INFO - Chain [1] start processing\n",
      "15:29:11 - cmdstanpy - INFO - Chain [1] done processing\n",
      "15:29:11 - cmdstanpy - INFO - Chain [1] start processing\n",
      "15:29:11 - cmdstanpy - INFO - Chain [1] done processing\n",
      "15:29:11 - cmdstanpy - ERROR - Chain [1] error: error during processing Stale NFS file handle\n",
      "Optimization terminated abnormally. Falling back to Newton.\n",
      "15:29:11 - cmdstanpy - INFO - Chain [1] start processing\n",
      "15:29:36 - cmdstanpy - INFO - Chain [1] done processing\n",
      "15:29:37 - cmdstanpy - INFO - Chain [1] start processing\n",
      "15:29:37 - cmdstanpy - INFO - Chain [1] done processing\n",
      "15:29:37 - cmdstanpy - ERROR - Chain [1] error: error during processing Stale NFS file handle\n",
      "Optimization terminated abnormally. Falling back to Newton.\n",
      "15:29:37 - cmdstanpy - INFO - Chain [1] start processing\n",
      "15:30:08 - cmdstanpy - INFO - Chain [1] done processing\n",
      "15:30:08 - cmdstanpy - INFO - Chain [1] start processing\n",
      "15:30:08 - cmdstanpy - INFO - Chain [1] done processing\n",
      "15:30:08 - cmdstanpy - ERROR - Chain [1] error: error during processing Stale NFS file handle\n",
      "Optimization terminated abnormally. Falling back to Newton.\n",
      "15:30:08 - cmdstanpy - INFO - Chain [1] start processing\n",
      "15:31:12 - cmdstanpy - INFO - Chain [1] done processing\n",
      "15:31:12 - cmdstanpy - INFO - Chain [1] start processing\n",
      "15:31:12 - cmdstanpy - INFO - Chain [1] done processing\n",
      "15:31:12 - cmdstanpy - ERROR - Chain [1] error: error during processing Stale NFS file handle\n",
      "Optimization terminated abnormally. Falling back to Newton.\n",
      "15:31:12 - cmdstanpy - INFO - Chain [1] start processing\n",
      "15:31:35 - cmdstanpy - INFO - Chain [1] done processing\n",
      "15:31:36 - cmdstanpy - INFO - Chain [1] start processing\n",
      "15:31:36 - cmdstanpy - INFO - Chain [1] done processing\n",
      "15:31:36 - cmdstanpy - INFO - Chain [1] start processing\n",
      "15:31:36 - cmdstanpy - INFO - Chain [1] done processing\n",
      "15:31:36 - cmdstanpy - ERROR - Chain [1] error: error during processing Stale NFS file handle\n",
      "Optimization terminated abnormally. Falling back to Newton.\n",
      "15:31:36 - cmdstanpy - INFO - Chain [1] start processing\n",
      "15:32:02 - cmdstanpy - INFO - Chain [1] done processing\n",
      "15:32:02 - cmdstanpy - INFO - Chain [1] start processing\n",
      "15:32:02 - cmdstanpy - INFO - Chain [1] done processing\n",
      "15:32:02 - cmdstanpy - ERROR - Chain [1] error: error during processing Stale NFS file handle\n",
      "Optimization terminated abnormally. Falling back to Newton.\n",
      "15:32:02 - cmdstanpy - INFO - Chain [1] start processing\n",
      "15:32:26 - cmdstanpy - INFO - Chain [1] done processing\n",
      "15:32:26 - cmdstanpy - INFO - Chain [1] start processing\n",
      "15:32:27 - cmdstanpy - INFO - Chain [1] done processing\n",
      "15:32:27 - cmdstanpy - INFO - Chain [1] start processing\n",
      "15:32:27 - cmdstanpy - INFO - Chain [1] done processing\n",
      "15:32:27 - cmdstanpy - ERROR - Chain [1] error: error during processing Stale NFS file handle\n",
      "Optimization terminated abnormally. Falling back to Newton.\n",
      "15:32:27 - cmdstanpy - INFO - Chain [1] start processing\n",
      "15:33:21 - cmdstanpy - INFO - Chain [1] done processing\n",
      "15:33:21 - cmdstanpy - INFO - Chain [1] start processing\n",
      "15:33:21 - cmdstanpy - INFO - Chain [1] done processing\n",
      "15:33:21 - cmdstanpy - ERROR - Chain [1] error: error during processing Stale NFS file handle\n",
      "Optimization terminated abnormally. Falling back to Newton.\n",
      "15:33:21 - cmdstanpy - INFO - Chain [1] start processing\n",
      "15:33:49 - cmdstanpy - INFO - Chain [1] done processing\n",
      "15:33:50 - cmdstanpy - INFO - Chain [1] start processing\n",
      "15:33:50 - cmdstanpy - INFO - Chain [1] done processing\n",
      "15:33:50 - cmdstanpy - ERROR - Chain [1] error: error during processing Stale NFS file handle\n",
      "Optimization terminated abnormally. Falling back to Newton.\n",
      "15:33:50 - cmdstanpy - INFO - Chain [1] start processing\n",
      "15:34:12 - cmdstanpy - INFO - Chain [1] done processing\n",
      "15:34:12 - cmdstanpy - INFO - Chain [1] start processing\n",
      "15:34:12 - cmdstanpy - INFO - Chain [1] done processing\n",
      "15:34:12 - cmdstanpy - ERROR - Chain [1] error: error during processing Stale NFS file handle\n",
      "Optimization terminated abnormally. Falling back to Newton.\n",
      "15:34:12 - cmdstanpy - INFO - Chain [1] start processing\n",
      "15:34:44 - cmdstanpy - INFO - Chain [1] done processing\n",
      "15:34:44 - cmdstanpy - INFO - Chain [1] start processing\n",
      "15:34:44 - cmdstanpy - INFO - Chain [1] done processing\n",
      "15:34:44 - cmdstanpy - ERROR - Chain [1] error: error during processing Stale NFS file handle\n",
      "Optimization terminated abnormally. Falling back to Newton.\n",
      "15:34:44 - cmdstanpy - INFO - Chain [1] start processing\n",
      "15:35:15 - cmdstanpy - INFO - Chain [1] done processing\n",
      "15:35:15 - cmdstanpy - INFO - Chain [1] start processing\n",
      "15:35:15 - cmdstanpy - INFO - Chain [1] done processing\n",
      "15:35:15 - cmdstanpy - ERROR - Chain [1] error: error during processing Stale NFS file handle\n",
      "Optimization terminated abnormally. Falling back to Newton.\n",
      "15:35:15 - cmdstanpy - INFO - Chain [1] start processing\n",
      "15:36:03 - cmdstanpy - INFO - Chain [1] done processing\n",
      "15:36:04 - cmdstanpy - INFO - Chain [1] start processing\n",
      "15:36:04 - cmdstanpy - INFO - Chain [1] done processing\n",
      "15:36:04 - cmdstanpy - INFO - Chain [1] start processing\n",
      "15:36:04 - cmdstanpy - INFO - Chain [1] done processing\n",
      "15:36:04 - cmdstanpy - ERROR - Chain [1] error: error during processing Stale NFS file handle\n",
      "Optimization terminated abnormally. Falling back to Newton.\n",
      "15:36:04 - cmdstanpy - INFO - Chain [1] start processing\n",
      "15:36:38 - cmdstanpy - INFO - Chain [1] done processing\n",
      "15:36:39 - cmdstanpy - INFO - Chain [1] start processing\n",
      "15:36:39 - cmdstanpy - INFO - Chain [1] done processing\n",
      "15:36:39 - cmdstanpy - ERROR - Chain [1] error: error during processing Stale NFS file handle\n",
      "Optimization terminated abnormally. Falling back to Newton.\n",
      "15:36:39 - cmdstanpy - INFO - Chain [1] start processing\n",
      "15:37:02 - cmdstanpy - INFO - Chain [1] done processing\n",
      "15:37:02 - cmdstanpy - INFO - Chain [1] start processing\n",
      "15:37:02 - cmdstanpy - INFO - Chain [1] done processing\n",
      "15:37:02 - cmdstanpy - ERROR - Chain [1] error: error during processing Stale NFS file handle\n",
      "Optimization terminated abnormally. Falling back to Newton.\n",
      "15:37:02 - cmdstanpy - INFO - Chain [1] start processing\n",
      "15:37:40 - cmdstanpy - INFO - Chain [1] done processing\n",
      "15:37:40 - cmdstanpy - INFO - Chain [1] start processing\n",
      "15:37:40 - cmdstanpy - INFO - Chain [1] done processing\n",
      "15:37:40 - cmdstanpy - ERROR - Chain [1] error: error during processing Stale NFS file handle\n",
      "Optimization terminated abnormally. Falling back to Newton.\n",
      "15:37:40 - cmdstanpy - INFO - Chain [1] start processing\n",
      "15:38:12 - cmdstanpy - INFO - Chain [1] done processing\n",
      "15:38:12 - cmdstanpy - INFO - Chain [1] start processing\n",
      "15:38:12 - cmdstanpy - INFO - Chain [1] done processing\n",
      "15:38:12 - cmdstanpy - ERROR - Chain [1] error: error during processing Stale NFS file handle\n",
      "Optimization terminated abnormally. Falling back to Newton.\n",
      "15:38:12 - cmdstanpy - INFO - Chain [1] start processing\n",
      "15:38:56 - cmdstanpy - INFO - Chain [1] done processing\n",
      "15:38:56 - cmdstanpy - INFO - Chain [1] start processing\n",
      "15:38:56 - cmdstanpy - INFO - Chain [1] done processing\n",
      "15:38:56 - cmdstanpy - ERROR - Chain [1] error: error during processing Stale NFS file handle\n",
      "Optimization terminated abnormally. Falling back to Newton.\n",
      "15:38:56 - cmdstanpy - INFO - Chain [1] start processing\n",
      "15:39:19 - cmdstanpy - INFO - Chain [1] done processing\n",
      "15:39:19 - cmdstanpy - INFO - Chain [1] start processing\n",
      "15:39:20 - cmdstanpy - INFO - Chain [1] done processing\n",
      "15:39:20 - cmdstanpy - INFO - Chain [1] start processing\n",
      "15:39:20 - cmdstanpy - INFO - Chain [1] done processing\n",
      "15:39:20 - cmdstanpy - ERROR - Chain [1] error: error during processing Stale NFS file handle\n",
      "Optimization terminated abnormally. Falling back to Newton.\n",
      "15:39:20 - cmdstanpy - INFO - Chain [1] start processing\n",
      "15:39:51 - cmdstanpy - INFO - Chain [1] done processing\n",
      "15:39:52 - cmdstanpy - INFO - Chain [1] start processing\n",
      "15:39:52 - cmdstanpy - INFO - Chain [1] done processing\n",
      "15:39:52 - cmdstanpy - ERROR - Chain [1] error: error during processing Stale NFS file handle\n",
      "Optimization terminated abnormally. Falling back to Newton.\n",
      "15:39:52 - cmdstanpy - INFO - Chain [1] start processing\n",
      "15:40:23 - cmdstanpy - INFO - Chain [1] done processing\n",
      "15:40:23 - cmdstanpy - INFO - Chain [1] start processing\n",
      "15:40:23 - cmdstanpy - INFO - Chain [1] done processing\n",
      "15:40:23 - cmdstanpy - ERROR - Chain [1] error: error during processing Stale NFS file handle\n",
      "Optimization terminated abnormally. Falling back to Newton.\n",
      "15:40:23 - cmdstanpy - INFO - Chain [1] start processing\n",
      "15:40:49 - cmdstanpy - INFO - Chain [1] done processing\n",
      "15:40:49 - cmdstanpy - INFO - Chain [1] start processing\n",
      "15:40:49 - cmdstanpy - INFO - Chain [1] done processing\n",
      "15:40:49 - cmdstanpy - ERROR - Chain [1] error: error during processing Stale NFS file handle\n",
      "Optimization terminated abnormally. Falling back to Newton.\n",
      "15:40:49 - cmdstanpy - INFO - Chain [1] start processing\n",
      "15:41:25 - cmdstanpy - INFO - Chain [1] done processing\n",
      "15:41:25 - cmdstanpy - INFO - Chain [1] start processing\n",
      "15:41:25 - cmdstanpy - INFO - Chain [1] done processing\n",
      "15:41:25 - cmdstanpy - ERROR - Chain [1] error: error during processing Stale NFS file handle\n",
      "Optimization terminated abnormally. Falling back to Newton.\n",
      "15:41:26 - cmdstanpy - INFO - Chain [1] start processing\n",
      "15:42:19 - cmdstanpy - INFO - Chain [1] done processing\n",
      "15:42:19 - cmdstanpy - INFO - Chain [1] start processing\n",
      "15:42:19 - cmdstanpy - INFO - Chain [1] done processing\n",
      "15:42:19 - cmdstanpy - ERROR - Chain [1] error: error during processing Stale NFS file handle\n",
      "Optimization terminated abnormally. Falling back to Newton.\n",
      "15:42:20 - cmdstanpy - INFO - Chain [1] start processing\n",
      "15:42:57 - cmdstanpy - INFO - Chain [1] done processing\n",
      "15:42:58 - cmdstanpy - INFO - Chain [1] start processing\n",
      "15:42:58 - cmdstanpy - INFO - Chain [1] done processing\n",
      "15:42:58 - cmdstanpy - ERROR - Chain [1] error: error during processing Stale NFS file handle\n",
      "Optimization terminated abnormally. Falling back to Newton.\n",
      "15:42:58 - cmdstanpy - INFO - Chain [1] start processing\n"
     ]
    },
    {
     "ename": "KeyboardInterrupt",
     "evalue": "",
     "output_type": "error",
     "traceback": [
      "\u001b[0;31m---------------------------------------------------------------------------\u001b[0m",
      "\u001b[0;31mRuntimeError\u001b[0m                              Traceback (most recent call last)",
      "File \u001b[0;32m~/opt/anaconda3/lib/python3.9/site-packages/prophet/models.py:96\u001b[0m, in \u001b[0;36mCmdStanPyBackend.fit\u001b[0;34m(self, stan_init, stan_data, **kwargs)\u001b[0m\n\u001b[1;32m     95\u001b[0m \u001b[39mtry\u001b[39;00m:\n\u001b[0;32m---> 96\u001b[0m     \u001b[39mself\u001b[39m\u001b[39m.\u001b[39mstan_fit \u001b[39m=\u001b[39m \u001b[39mself\u001b[39;49m\u001b[39m.\u001b[39;49mmodel\u001b[39m.\u001b[39;49moptimize(\u001b[39m*\u001b[39;49m\u001b[39m*\u001b[39;49margs)\n\u001b[1;32m     97\u001b[0m \u001b[39mexcept\u001b[39;00m \u001b[39mRuntimeError\u001b[39;00m \u001b[39mas\u001b[39;00m e:\n\u001b[1;32m     98\u001b[0m     \u001b[39m# Fall back on Newton\u001b[39;00m\n",
      "File \u001b[0;32m~/opt/anaconda3/lib/python3.9/site-packages/cmdstanpy/model.py:738\u001b[0m, in \u001b[0;36mCmdStanModel.optimize\u001b[0;34m(self, data, seed, inits, output_dir, sig_figs, save_profile, algorithm, init_alpha, tol_obj, tol_rel_obj, tol_grad, tol_rel_grad, tol_param, history_size, iter, save_iterations, require_converged, show_console, refresh, time_fmt, timeout)\u001b[0m\n\u001b[1;32m    737\u001b[0m     \u001b[39melse\u001b[39;00m:\n\u001b[0;32m--> 738\u001b[0m         \u001b[39mraise\u001b[39;00m \u001b[39mRuntimeError\u001b[39;00m(msg)\n\u001b[1;32m    739\u001b[0m mle \u001b[39m=\u001b[39m CmdStanMLE(runset)\n",
      "\u001b[0;31mRuntimeError\u001b[0m: Error during optimization! Command '/Users/jeremytallant/opt/anaconda3/lib/python3.9/site-packages/prophet/stan_model/prophet_model.bin random seed=79175 data file=/var/folders/44/0wp3m6953qq8ht7m3krhf89c0000gn/T/tmp0ijhccbn/dap0zpjn.json init=/var/folders/44/0wp3m6953qq8ht7m3krhf89c0000gn/T/tmp0ijhccbn/4urr96to.json output file=/var/folders/44/0wp3m6953qq8ht7m3krhf89c0000gn/T/tmp0ijhccbn/prophet_modelgz01z9l6/prophet_model-20230326154258.csv method=optimize algorithm=lbfgs iter=10000' failed: console log output:\n\nmethod = optimize\n  optimize\n    algorithm = lbfgs (Default)\n      lbfgs\n        init_alpha = 0.001 (Default)\n        tol_obj = 9.9999999999999998e-13 (Default)\n        tol_rel_obj = 10000 (Default)\n        tol_grad = 1e-08 (Default)\n        tol_rel_grad = 10000000 (Default)\n        tol_param = 1e-08 (Default)\n        history_size = 5 (Default)\n    iter = 10000\n    save_iterations = 0 (Default)\nid = 0 (Default)\ndata\n  file = /var/folders/44/0wp3m6953qq8ht7m3krhf89c0000gn/T/tmp0ijhccbn/dap0zpjn.json\ninit = /var/folders/44/0wp3m6953qq8ht7m3krhf89c0000gn/T/tmp0ijhccbn/4urr96to.json\nrandom\n  seed = 79175\noutput\n  file = /var/folders/44/0wp3m6953qq8ht7m3krhf89c0000gn/T/tmp0ijhccbn/prophet_modelgz01z9l6/prophet_model-20230326154258.csv\n  diagnostic_file =  (Default)\n  refresh = 100 (Default)\n  sig_figs = -1 (Default)\n  profile_file = profile.csv (Default)\n\nInitial log joint probability = -33.3818\n    Iter      log prob        ||dx||      ||grad||       alpha      alpha0  # evals  Notes \n       1      -33.3818             0       1923.74       1e-12       0.001       20   \nOptimization terminated with error: \n  Line search failed to achieve a sufficient decrease, no more progress can be made\n",
      "\nDuring handling of the above exception, another exception occurred:\n",
      "\u001b[0;31mKeyboardInterrupt\u001b[0m                         Traceback (most recent call last)",
      "Cell \u001b[0;32mIn[25], line 7\u001b[0m\n\u001b[1;32m      5\u001b[0m \u001b[39mfor\u001b[39;00m store \u001b[39min\u001b[39;00m unique_stores:\n\u001b[1;32m      6\u001b[0m     \u001b[39mfor\u001b[39;00m item \u001b[39min\u001b[39;00m unique_items:\n\u001b[0;32m----> 7\u001b[0m         model \u001b[39m=\u001b[39m train_prophet_model(store, item)\n\u001b[1;32m      8\u001b[0m         models[(store, item)] \u001b[39m=\u001b[39m model\n",
      "Cell \u001b[0;32mIn[23], line 27\u001b[0m, in \u001b[0;36mtrain_prophet_model\u001b[0;34m(store, item)\u001b[0m\n\u001b[1;32m     14\u001b[0m model \u001b[39m=\u001b[39m Prophet(\n\u001b[1;32m     15\u001b[0m     interval_width\u001b[39m=\u001b[39m\u001b[39m0.95\u001b[39m,\n\u001b[1;32m     16\u001b[0m     growth\u001b[39m=\u001b[39m\u001b[39m'\u001b[39m\u001b[39mlinear\u001b[39m\u001b[39m'\u001b[39m,\n\u001b[0;32m   (...)\u001b[0m\n\u001b[1;32m     23\u001b[0m     seasonality_mode\u001b[39m=\u001b[39m\u001b[39m'\u001b[39m\u001b[39mmultiplicative\u001b[39m\u001b[39m'\u001b[39m\n\u001b[1;32m     24\u001b[0m )\n\u001b[1;32m     26\u001b[0m \u001b[39m# Train the Prophet model\u001b[39;00m\n\u001b[0;32m---> 27\u001b[0m model\u001b[39m.\u001b[39;49mfit(df)\n\u001b[1;32m     29\u001b[0m \u001b[39mreturn\u001b[39;00m model\n",
      "File \u001b[0;32m~/opt/anaconda3/lib/python3.9/site-packages/prophet/forecaster.py:1181\u001b[0m, in \u001b[0;36mProphet.fit\u001b[0;34m(self, df, **kwargs)\u001b[0m\n\u001b[1;32m   1179\u001b[0m     \u001b[39mself\u001b[39m\u001b[39m.\u001b[39mparams \u001b[39m=\u001b[39m \u001b[39mself\u001b[39m\u001b[39m.\u001b[39mstan_backend\u001b[39m.\u001b[39msampling(stan_init, dat, \u001b[39mself\u001b[39m\u001b[39m.\u001b[39mmcmc_samples, \u001b[39m*\u001b[39m\u001b[39m*\u001b[39mkwargs)\n\u001b[1;32m   1180\u001b[0m \u001b[39melse\u001b[39;00m:\n\u001b[0;32m-> 1181\u001b[0m     \u001b[39mself\u001b[39m\u001b[39m.\u001b[39mparams \u001b[39m=\u001b[39m \u001b[39mself\u001b[39;49m\u001b[39m.\u001b[39;49mstan_backend\u001b[39m.\u001b[39;49mfit(stan_init, dat, \u001b[39m*\u001b[39;49m\u001b[39m*\u001b[39;49mkwargs)\n\u001b[1;32m   1183\u001b[0m \u001b[39mself\u001b[39m\u001b[39m.\u001b[39mstan_fit \u001b[39m=\u001b[39m \u001b[39mself\u001b[39m\u001b[39m.\u001b[39mstan_backend\u001b[39m.\u001b[39mstan_fit\n\u001b[1;32m   1184\u001b[0m \u001b[39m# If no changepoints were requested, replace delta with 0s\u001b[39;00m\n",
      "File \u001b[0;32m~/opt/anaconda3/lib/python3.9/site-packages/prophet/models.py:103\u001b[0m, in \u001b[0;36mCmdStanPyBackend.fit\u001b[0;34m(self, stan_init, stan_data, **kwargs)\u001b[0m\n\u001b[1;32m    101\u001b[0m     logger\u001b[39m.\u001b[39mwarning(\u001b[39m'\u001b[39m\u001b[39mOptimization terminated abnormally. Falling back to Newton.\u001b[39m\u001b[39m'\u001b[39m)\n\u001b[1;32m    102\u001b[0m     args[\u001b[39m'\u001b[39m\u001b[39malgorithm\u001b[39m\u001b[39m'\u001b[39m] \u001b[39m=\u001b[39m \u001b[39m'\u001b[39m\u001b[39mNewton\u001b[39m\u001b[39m'\u001b[39m\n\u001b[0;32m--> 103\u001b[0m     \u001b[39mself\u001b[39m\u001b[39m.\u001b[39mstan_fit \u001b[39m=\u001b[39m \u001b[39mself\u001b[39;49m\u001b[39m.\u001b[39;49mmodel\u001b[39m.\u001b[39;49moptimize(\u001b[39m*\u001b[39;49m\u001b[39m*\u001b[39;49margs)\n\u001b[1;32m    104\u001b[0m params \u001b[39m=\u001b[39m \u001b[39mself\u001b[39m\u001b[39m.\u001b[39mstan_to_dict_numpy(\n\u001b[1;32m    105\u001b[0m     \u001b[39mself\u001b[39m\u001b[39m.\u001b[39mstan_fit\u001b[39m.\u001b[39mcolumn_names, \u001b[39mself\u001b[39m\u001b[39m.\u001b[39mstan_fit\u001b[39m.\u001b[39moptimized_params_np)\n\u001b[1;32m    106\u001b[0m \u001b[39mfor\u001b[39;00m par \u001b[39min\u001b[39;00m params:\n",
      "File \u001b[0;32m~/opt/anaconda3/lib/python3.9/site-packages/cmdstanpy/model.py:723\u001b[0m, in \u001b[0;36mCmdStanModel.optimize\u001b[0;34m(self, data, seed, inits, output_dir, sig_figs, save_profile, algorithm, init_alpha, tol_obj, tol_rel_obj, tol_grad, tol_rel_grad, tol_param, history_size, iter, save_iterations, require_converged, show_console, refresh, time_fmt, timeout)\u001b[0m\n\u001b[1;32m    721\u001b[0m     dummy_chain_id \u001b[39m=\u001b[39m \u001b[39m0\u001b[39m\n\u001b[1;32m    722\u001b[0m     runset \u001b[39m=\u001b[39m RunSet(args\u001b[39m=\u001b[39margs, chains\u001b[39m=\u001b[39m\u001b[39m1\u001b[39m, time_fmt\u001b[39m=\u001b[39mtime_fmt)\n\u001b[0;32m--> 723\u001b[0m     \u001b[39mself\u001b[39;49m\u001b[39m.\u001b[39;49m_run_cmdstan(\n\u001b[1;32m    724\u001b[0m         runset,\n\u001b[1;32m    725\u001b[0m         dummy_chain_id,\n\u001b[1;32m    726\u001b[0m         show_console\u001b[39m=\u001b[39;49mshow_console,\n\u001b[1;32m    727\u001b[0m         timeout\u001b[39m=\u001b[39;49mtimeout,\n\u001b[1;32m    728\u001b[0m     )\n\u001b[1;32m    729\u001b[0m runset\u001b[39m.\u001b[39mraise_for_timeouts()\n\u001b[1;32m    731\u001b[0m \u001b[39mif\u001b[39;00m \u001b[39mnot\u001b[39;00m runset\u001b[39m.\u001b[39m_check_retcodes():\n",
      "File \u001b[0;32m~/opt/anaconda3/lib/python3.9/site-packages/cmdstanpy/model.py:1722\u001b[0m, in \u001b[0;36mCmdStanModel._run_cmdstan\u001b[0;34m(self, runset, idx, show_progress, show_console, progress_hook, timeout)\u001b[0m\n\u001b[1;32m   1720\u001b[0m \u001b[39mwhile\u001b[39;00m proc\u001b[39m.\u001b[39mpoll() \u001b[39mis\u001b[39;00m \u001b[39mNone\u001b[39;00m:\n\u001b[1;32m   1721\u001b[0m     \u001b[39mif\u001b[39;00m proc\u001b[39m.\u001b[39mstdout \u001b[39mis\u001b[39;00m \u001b[39mnot\u001b[39;00m \u001b[39mNone\u001b[39;00m:\n\u001b[0;32m-> 1722\u001b[0m         line \u001b[39m=\u001b[39m proc\u001b[39m.\u001b[39;49mstdout\u001b[39m.\u001b[39;49mreadline()\n\u001b[1;32m   1723\u001b[0m         fd_out\u001b[39m.\u001b[39mwrite(line)\n\u001b[1;32m   1724\u001b[0m         line \u001b[39m=\u001b[39m line\u001b[39m.\u001b[39mstrip()\n",
      "\u001b[0;31mKeyboardInterrupt\u001b[0m: "
     ]
    }
   ],
   "source": [
    "# Initialize a dictionary to store the models\n",
    "models = {}\n",
    " \n",
    "# Iterate through all store and item combos\n",
    "for store in unique_stores:\n",
    "    for item in unique_items:\n",
    "        model = train_prophet_model(store, item)\n",
    "        models[(store, item)] = model\n"
   ]
  },
  {
   "cell_type": "code",
   "execution_count": null,
   "metadata": {},
   "outputs": [],
   "source": []
  }
 ],
 "metadata": {
  "kernelspec": {
   "display_name": "base",
   "language": "python",
   "name": "python3"
  },
  "language_info": {
   "codemirror_mode": {
    "name": "ipython",
    "version": 3
   },
   "file_extension": ".py",
   "mimetype": "text/x-python",
   "name": "python",
   "nbconvert_exporter": "python",
   "pygments_lexer": "ipython3",
   "version": "3.9.16"
  },
  "orig_nbformat": 4
 },
 "nbformat": 4,
 "nbformat_minor": 2
}
